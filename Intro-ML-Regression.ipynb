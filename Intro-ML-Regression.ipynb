{
 "cells": [
  {
   "cell_type": "markdown",
   "id": "face0288-ff7e-49b3-adeb-669b28aab089",
   "metadata": {},
   "source": [
    "# Intro ML Regression"
   ]
  },
  {
   "cell_type": "markdown",
   "id": "f0160042-5fa5-4407-86e4-6264dca37c90",
   "metadata": {},
   "source": [
    "## La Régression Linéaire\n",
    "\n",
    "La régression linéaire cherche à ajuster une droite qui représente au mieux la relation entre une variable explicative ($x$) et une variable cible ($y$) :  \n",
    "$y = ax + b$\n",
    "\n",
    "Où :\n",
    "- $a$ est la pente de la droite\n",
    "- $b$ est l'ordonnée à l'origine\n",
    "\n",
    "L'objectif est de minimiser l'erreur entre les valeurs prédites par le modèle et les valeurs réelles observées.\n"
   ]
  },
  {
   "cell_type": "markdown",
   "id": "390a5872-67de-4add-91a6-2ea484d79f9b",
   "metadata": {},
   "source": [
    "👉 Voici une visualisation interactive pour mieux comprendre comment la droite de régression est ajustée :  \n",
    "[Visualisation dynamique](https://setosa.io/ev/ordinary-least-squares-regression/)\n"
   ]
  },
  {
   "cell_type": "markdown",
   "id": "73adc15d-f69f-4fa8-abf9-ebf6f505b1a4",
   "metadata": {},
   "source": [
    "## Comment faire la cross validation"
   ]
  },
  {
   "cell_type": "markdown",
   "id": "3a4e0990-a3ba-46a4-8db4-4ef06edabb28",
   "metadata": {},
   "source": [
    "### Dataset `posts`"
   ]
  },
  {
   "cell_type": "code",
   "execution_count": 7,
   "id": "113de769-3092-4868-8a79-38a29721600a",
   "metadata": {
    "execution": {
     "iopub.execute_input": "2025-06-05T19:06:33.467839Z",
     "iopub.status.busy": "2025-06-05T19:06:33.466700Z",
     "iopub.status.idle": "2025-06-05T19:06:41.046225Z",
     "shell.execute_reply": "2025-06-05T19:06:41.045089Z",
     "shell.execute_reply.started": "2025-06-05T19:06:33.467813Z"
    }
   },
   "outputs": [],
   "source": [
    "import pandas as pd\n",
    "posts = pd.read_csv('data/posts.csv.bz', compression='bz2')\n",
    "\n",
    "# Garder seulement le dernier message\n",
    "posts = posts.sort_values(by='ts', ascending=True).drop_duplicates('id', keep='last')"
   ]
  },
  {
   "cell_type": "markdown",
   "id": "d83895a2-9b8c-4257-a370-0a1d3dd18593",
   "metadata": {},
   "source": [
    "#### Méthode Apprentissage-test"
   ]
  },
  {
   "cell_type": "code",
   "execution_count": 9,
   "id": "8124c726-7446-4f6e-814e-74a3bd151eb5",
   "metadata": {
    "execution": {
     "iopub.execute_input": "2025-06-05T19:06:50.422556Z",
     "iopub.status.busy": "2025-06-05T19:06:50.422225Z",
     "iopub.status.idle": "2025-06-05T19:06:50.477349Z",
     "shell.execute_reply": "2025-06-05T19:06:50.467497Z",
     "shell.execute_reply.started": "2025-06-05T19:06:50.422541Z"
    }
   },
   "outputs": [
    {
     "data": {
      "text/plain": [
       "0.278832995645803"
      ]
     },
     "execution_count": 9,
     "metadata": {},
     "output_type": "execute_result"
    }
   ],
   "source": [
    "from sklearn.model_selection import train_test_split\n",
    "from sklearn.linear_model import LinearRegression\n",
    "\n",
    "#Train-test split\n",
    "posts_train, posts_test = train_test_split(posts, test_size=0.2)\n",
    "\n",
    "#Création de X et y train et test\n",
    "X_train = posts_train[['followers']]\n",
    "X_test = posts_test[['followers']]\n",
    "\n",
    "y_train = posts_train['likes']\n",
    "y_test = posts_test['likes']\n",
    "\n",
    "reg = LinearRegression()\n",
    "reg.fit(X_train, y_train)\n",
    "\n",
    "reg.score(X_test, y_test)"
   ]
  },
  {
   "cell_type": "markdown",
   "id": "dd2217d9-a13c-4f80-a12a-9e8d39f4a0dc",
   "metadata": {},
   "source": [
    "👆 Executez cette cellule plusieurs fois pour voir que le score change"
   ]
  },
  {
   "cell_type": "markdown",
   "id": "aedbcf80-ee99-4176-90e8-c8d0bf553a8d",
   "metadata": {},
   "source": [
    "#### Méthode cross-validate"
   ]
  },
  {
   "cell_type": "markdown",
   "id": "4d09ac18-ef62-4da7-a165-045d88cd5792",
   "metadata": {},
   "source": [
    "Sans mélanger la base de données"
   ]
  },
  {
   "cell_type": "code",
   "execution_count": 13,
   "id": "548100bc-b41b-4f22-8690-b587f3b6fc29",
   "metadata": {
    "execution": {
     "iopub.execute_input": "2025-06-05T19:07:43.280885Z",
     "iopub.status.busy": "2025-06-05T19:07:43.280657Z",
     "iopub.status.idle": "2025-06-05T19:07:43.323415Z",
     "shell.execute_reply": "2025-06-05T19:07:43.322181Z",
     "shell.execute_reply.started": "2025-06-05T19:07:43.280869Z"
    }
   },
   "outputs": [
    {
     "data": {
      "text/plain": [
       "0.24825946185346143"
      ]
     },
     "execution_count": 13,
     "metadata": {},
     "output_type": "execute_result"
    }
   ],
   "source": [
    "from sklearn.model_selection import cross_validate\n",
    "\n",
    "# Je crée X et y\n",
    "X = posts[['followers']]\n",
    "y = posts['likes']\n",
    "\n",
    "# J'instancie le modèle\n",
    "model = LinearRegression()\n",
    "\n",
    "\n",
    "# Je cross valide le modèle\n",
    "scores = cross_validate(model, X, y, cv = 5)\n",
    "scores['test_score'].mean()"
   ]
  },
  {
   "cell_type": "markdown",
   "id": "37be96d5-8a56-4dc0-9f55-e733d1d7228e",
   "metadata": {
    "execution": {
     "iopub.execute_input": "2025-06-05T19:08:27.799263Z",
     "iopub.status.busy": "2025-06-05T19:08:27.798883Z",
     "iopub.status.idle": "2025-06-05T19:08:27.806104Z",
     "shell.execute_reply": "2025-06-05T19:08:27.804554Z",
     "shell.execute_reply.started": "2025-06-05T19:08:27.799239Z"
    }
   },
   "source": [
    "👆 Le score reste le meme"
   ]
  },
  {
   "cell_type": "markdown",
   "id": "37c49df2-ed04-4ad7-8cb9-2fef9de4554b",
   "metadata": {},
   "source": [
    "En shufflant la base de données"
   ]
  },
  {
   "cell_type": "code",
   "execution_count": 27,
   "id": "c34797c7-6313-400c-b28c-6fade9ec9897",
   "metadata": {
    "execution": {
     "iopub.execute_input": "2025-06-05T19:10:23.744582Z",
     "iopub.status.busy": "2025-06-05T19:10:23.744342Z",
     "iopub.status.idle": "2025-06-05T19:10:23.783696Z",
     "shell.execute_reply": "2025-06-05T19:10:23.782620Z",
     "shell.execute_reply.started": "2025-06-05T19:10:23.744565Z"
    }
   },
   "outputs": [
    {
     "data": {
      "text/plain": [
       "0.24777284243143954"
      ]
     },
     "execution_count": 27,
     "metadata": {},
     "output_type": "execute_result"
    }
   ],
   "source": [
    "# ici je prends un sample de 100% de la donnée mais mélangée\n",
    "posts = posts.sample(frac = 1)\n",
    "\n",
    "\n",
    "X = posts[['followers']]\n",
    "y = posts['likes']\n",
    "\n",
    "model = LinearRegression()\n",
    "\n",
    "scores = cross_validate(model, X, y, cv = 5)\n",
    "\n",
    "scores['test_score'].mean()"
   ]
  },
  {
   "cell_type": "markdown",
   "id": "f54ceee8-72fc-4ff8-93e9-2070de5d2057",
   "metadata": {
    "execution": {
     "iopub.execute_input": "2025-06-05T19:09:41.761854Z",
     "iopub.status.busy": "2025-06-05T19:09:41.761057Z",
     "iopub.status.idle": "2025-06-05T19:09:41.767706Z",
     "shell.execute_reply": "2025-06-05T19:09:41.766535Z",
     "shell.execute_reply.started": "2025-06-05T19:09:41.761826Z"
    }
   },
   "source": [
    "👆 Le score changera un peu mais reste stable"
   ]
  }
 ],
 "metadata": {
  "kernelspec": {
   "display_name": "Python 3 (ipykernel)",
   "language": "python",
   "name": "python3"
  },
  "language_info": {
   "codemirror_mode": {
    "name": "ipython",
    "version": 3
   },
   "file_extension": ".py",
   "mimetype": "text/x-python",
   "name": "python",
   "nbconvert_exporter": "python",
   "pygments_lexer": "ipython3",
   "version": "3.12.9"
  }
 },
 "nbformat": 4,
 "nbformat_minor": 5
}
