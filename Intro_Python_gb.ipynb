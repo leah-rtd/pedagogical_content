{
 "cells": [
  {
   "cell_type": "markdown",
   "id": "425b0558-4831-4514-8f2b-6af010f98833",
   "metadata": {},
   "source": [
    "# Important Reminders"
   ]
  },
  {
   "cell_type": "markdown",
   "id": "c5233a46-a62e-4cdb-ad80-67234c1e4cdb",
   "metadata": {},
   "source": [
    "## Variables and Data Types"
   ]
  },
  {
   "cell_type": "markdown",
   "id": "d57c2942-5a85-4d9a-8364-64a2077ec975",
   "metadata": {},
   "source": [
    "Variables are used to store a value.  \n",
    "\n",
    "The data type is the category to which the data belongs."
   ]
  },
  {
   "cell_type": "code",
   "execution_count": 1,
   "id": "382aaa3a-ebb9-4254-b768-d7e8172a14cb",
   "metadata": {
    "execution": {
     "iopub.execute_input": "2025-07-30T18:52:53.166334Z",
     "iopub.status.busy": "2025-07-30T18:52:53.165449Z",
     "iopub.status.idle": "2025-07-30T18:52:53.170041Z",
     "shell.execute_reply": "2025-07-30T18:52:53.169102Z",
     "shell.execute_reply.started": "2025-07-30T18:52:53.166312Z"
    }
   },
   "outputs": [],
   "source": [
    "x = 5     # integer\n",
    "pi = 3.14 # float\n",
    "name = \"Alice\" # string\n",
    "is_student = True # boolean"
   ]
  },
  {
   "cell_type": "markdown",
   "id": "d72478f2-ba67-40df-9fda-d5f6d7f8bf3e",
   "metadata": {},
   "source": [
    "`name` is now a string.  \n",
    "This means we can use string methods directly on the variable."
   ]
  },
  {
   "cell_type": "code",
   "execution_count": 2,
   "id": "8978bde4-6359-442a-b864-17c6765a541a",
   "metadata": {
    "execution": {
     "iopub.execute_input": "2025-07-30T18:52:53.171270Z",
     "iopub.status.busy": "2025-07-30T18:52:53.170893Z",
     "iopub.status.idle": "2025-07-30T18:52:53.178312Z",
     "shell.execute_reply": "2025-07-30T18:52:53.177644Z",
     "shell.execute_reply.started": "2025-07-30T18:52:53.171250Z"
    }
   },
   "outputs": [
    {
     "data": {
      "text/plain": [
       "'alice'"
      ]
     },
     "execution_count": 2,
     "metadata": {},
     "output_type": "execute_result"
    }
   ],
   "source": [
    "name.lower()"
   ]
  },
  {
   "cell_type": "markdown",
   "id": "953da1c5-9558-4cc2-ad24-5e5fc3af81f5",
   "metadata": {},
   "source": [
    "However, these methods do not work on other data types.  \n",
    "For example, they do not work on integers"
   ]
  },
  {
   "cell_type": "code",
   "execution_count": 3,
   "id": "c84c3bbe-a3cb-43c1-b006-ea7b9fc27ae5",
   "metadata": {
    "execution": {
     "iopub.execute_input": "2025-07-30T18:52:53.179317Z",
     "iopub.status.busy": "2025-07-30T18:52:53.179015Z",
     "iopub.status.idle": "2025-07-30T18:52:53.184296Z",
     "shell.execute_reply": "2025-07-30T18:52:53.182565Z",
     "shell.execute_reply.started": "2025-07-30T18:52:53.179301Z"
    }
   },
   "outputs": [],
   "source": [
    "# x.lower()"
   ]
  },
  {
   "cell_type": "code",
   "execution_count": 4,
   "id": "d4e1e437-60fe-43d8-82b8-1d1b86862895",
   "metadata": {
    "execution": {
     "iopub.execute_input": "2025-07-30T18:52:53.187590Z",
     "iopub.status.busy": "2025-07-30T18:52:53.187137Z",
     "iopub.status.idle": "2025-07-30T18:52:53.198486Z",
     "shell.execute_reply": "2025-07-30T18:52:53.196939Z",
     "shell.execute_reply.started": "2025-07-30T18:52:53.187549Z"
    }
   },
   "outputs": [
    {
     "data": {
      "text/plain": [
       "int"
      ]
     },
     "execution_count": 4,
     "metadata": {},
     "output_type": "execute_result"
    }
   ],
   "source": [
    "type(x)"
   ]
  },
  {
   "cell_type": "markdown",
   "id": "45748209-5480-44b8-bf4c-2a036c4f6761",
   "metadata": {},
   "source": [
    "## Control Flow (`if` and `else`)"
   ]
  },
  {
   "cell_type": "markdown",
   "id": "41769c39-926e-465f-a261-4491e7e0e873",
   "metadata": {},
   "source": [
    "We use Control Flow to structure our code based on certain conditions  \n",
    "The different comparators which we can use are:  \n",
    "\n",
    "- `==` equal to\n",
    "- `!=` different to\n",
    "- `<` strictly smaller than\n",
    "- `<=` smaller or equal to\n",
    "- `>` strictly greater than\n",
    "- `>=` greater or equal to"
   ]
  },
  {
   "cell_type": "markdown",
   "id": "98d37847-3a9a-46c4-89c3-5422d02ede69",
   "metadata": {},
   "source": [
    "You can play around with the value of `age` to see how the print statement will change."
   ]
  },
  {
   "cell_type": "code",
   "execution_count": 5,
   "id": "da20786b-8a92-418d-8847-6662d730e0a9",
   "metadata": {
    "execution": {
     "iopub.execute_input": "2025-07-30T18:52:53.199957Z",
     "iopub.status.busy": "2025-07-30T18:52:53.199768Z",
     "iopub.status.idle": "2025-07-30T18:52:53.205064Z",
     "shell.execute_reply": "2025-07-30T18:52:53.203874Z",
     "shell.execute_reply.started": "2025-07-30T18:52:53.199940Z"
    }
   },
   "outputs": [
    {
     "name": "stdout",
     "output_type": "stream",
     "text": [
      "Child\n"
     ]
    }
   ],
   "source": [
    "age = 3\n",
    "\n",
    "if age >= 18:\n",
    "    print(\"Adult\")\n",
    "elif age >= 13:\n",
    "    print(\"Teenager\")\n",
    "else:\n",
    "    print(\"Child\")"
   ]
  },
  {
   "cell_type": "markdown",
   "id": "12b2e879-3e7e-4662-9006-e11564b8a299",
   "metadata": {},
   "source": [
    "## Functions"
   ]
  },
  {
   "cell_type": "markdown",
   "id": "bba89f87-903e-4832-b0d9-fc5b811242ea",
   "metadata": {},
   "source": [
    "We use them to group together code that we will reuse."
   ]
  },
  {
   "cell_type": "markdown",
   "id": "37ee6d18-d424-42e1-9b92-c99642b0e2fe",
   "metadata": {},
   "source": [
    "Here is an example with a function created to greet the user.  \n",
    "\n",
    "It takes one parameter, the name of the user. If no name is given, the default name will be \"Leah\""
   ]
  },
  {
   "cell_type": "code",
   "execution_count": 6,
   "id": "b62d0bc5-2e9b-44a4-a2d7-88da08c903ae",
   "metadata": {
    "execution": {
     "iopub.execute_input": "2025-07-30T18:52:53.207692Z",
     "iopub.status.busy": "2025-07-30T18:52:53.207309Z",
     "iopub.status.idle": "2025-07-30T18:52:53.212640Z",
     "shell.execute_reply": "2025-07-30T18:52:53.211709Z",
     "shell.execute_reply.started": "2025-07-30T18:52:53.207673Z"
    }
   },
   "outputs": [
    {
     "data": {
      "text/plain": [
       "'Hello Leah!'"
      ]
     },
     "execution_count": 6,
     "metadata": {},
     "output_type": "execute_result"
    }
   ],
   "source": [
    "name = \"Leah\"\n",
    "f\"Hello {name}!\""
   ]
  },
  {
   "cell_type": "code",
   "execution_count": 7,
   "id": "51ee6dd4-861d-4b6d-bc15-e8d8dd1fe9b9",
   "metadata": {
    "execution": {
     "iopub.execute_input": "2025-07-30T18:52:53.213968Z",
     "iopub.status.busy": "2025-07-30T18:52:53.213496Z",
     "iopub.status.idle": "2025-07-30T18:52:53.218577Z",
     "shell.execute_reply": "2025-07-30T18:52:53.217746Z",
     "shell.execute_reply.started": "2025-07-30T18:52:53.213948Z"
    }
   },
   "outputs": [
    {
     "name": "stdout",
     "output_type": "stream",
     "text": [
      "Hello Leah!\n",
      "Hello Laura!\n"
     ]
    }
   ],
   "source": [
    "def greet(name = \"Leah\"):\n",
    "    return f\"Hello {name}!\"\n",
    "\n",
    "# function call without parameter\n",
    "print(greet())\n",
    "\n",
    "# function call with parameter\n",
    "print(greet(\"Laura\"))"
   ]
  },
  {
   "cell_type": "markdown",
   "id": "2a976f0a-9a0e-415b-807b-2fa55e1e70a4",
   "metadata": {},
   "source": [
    "## Advanced Data Types: `list` and `dict`"
   ]
  },
  {
   "cell_type": "code",
   "execution_count": 8,
   "id": "968ac0dc-adee-4667-bf4f-23934f0dfb2b",
   "metadata": {
    "execution": {
     "iopub.execute_input": "2025-07-30T18:52:53.219744Z",
     "iopub.status.busy": "2025-07-30T18:52:53.219398Z",
     "iopub.status.idle": "2025-07-30T18:52:53.225401Z",
     "shell.execute_reply": "2025-07-30T18:52:53.224377Z",
     "shell.execute_reply.started": "2025-07-30T18:52:53.219725Z"
    }
   },
   "outputs": [
    {
     "data": {
      "text/plain": [
       "'apple'"
      ]
     },
     "execution_count": 8,
     "metadata": {},
     "output_type": "execute_result"
    }
   ],
   "source": [
    "# lists are an ordered collection. All of the elements are accessed by their index\n",
    "# the index is their position in the list\n",
    "\n",
    "fruits = [\"apple\", \"banana\", \"cherry\"]\n",
    "\n",
    "# in python, to access elements we use [] this is called slicing\n",
    "# in python, indexes start at 0\n",
    "fruits[0]"
   ]
  },
  {
   "cell_type": "code",
   "execution_count": 9,
   "id": "2741e25d-ec5a-45c1-87be-54a2277eb2e7",
   "metadata": {
    "execution": {
     "iopub.execute_input": "2025-07-30T18:52:53.227599Z",
     "iopub.status.busy": "2025-07-30T18:52:53.227202Z",
     "iopub.status.idle": "2025-07-30T18:52:53.236707Z",
     "shell.execute_reply": "2025-07-30T18:52:53.234925Z",
     "shell.execute_reply.started": "2025-07-30T18:52:53.227555Z"
    }
   },
   "outputs": [],
   "source": [
    "# dicts are not ordered, the elements inside are accessed by their key\n",
    "student_dict = {\n",
    "    \"first_name\": \"Leah\",\n",
    "    \"last_name\": \"Rothschild\"\n",
    "}"
   ]
  },
  {
   "cell_type": "code",
   "execution_count": 10,
   "id": "90a0d1ee-72a3-434f-99dd-f86168b59950",
   "metadata": {
    "execution": {
     "iopub.execute_input": "2025-07-30T18:52:53.238014Z",
     "iopub.status.busy": "2025-07-30T18:52:53.237777Z",
     "iopub.status.idle": "2025-07-30T18:52:53.246508Z",
     "shell.execute_reply": "2025-07-30T18:52:53.245129Z",
     "shell.execute_reply.started": "2025-07-30T18:52:53.237993Z"
    }
   },
   "outputs": [
    {
     "data": {
      "text/plain": [
       "dict_keys(['first_name', 'last_name'])"
      ]
     },
     "execution_count": 10,
     "metadata": {},
     "output_type": "execute_result"
    }
   ],
   "source": [
    "student_dict.keys()"
   ]
  },
  {
   "cell_type": "code",
   "execution_count": 11,
   "id": "096a907b-931a-4005-85c8-2e5cdc547d11",
   "metadata": {
    "execution": {
     "iopub.execute_input": "2025-07-30T18:52:53.248719Z",
     "iopub.status.busy": "2025-07-30T18:52:53.248221Z",
     "iopub.status.idle": "2025-07-30T18:52:53.257374Z",
     "shell.execute_reply": "2025-07-30T18:52:53.256092Z",
     "shell.execute_reply.started": "2025-07-30T18:52:53.248674Z"
    }
   },
   "outputs": [
    {
     "data": {
      "text/plain": [
       "'Leah'"
      ]
     },
     "execution_count": 11,
     "metadata": {},
     "output_type": "execute_result"
    }
   ],
   "source": [
    "student_dict['first_name']"
   ]
  },
  {
   "cell_type": "code",
   "execution_count": 12,
   "id": "fea1ddd4-9287-4f31-8130-169dadd3dd36",
   "metadata": {
    "execution": {
     "iopub.execute_input": "2025-07-30T18:52:53.258435Z",
     "iopub.status.busy": "2025-07-30T18:52:53.258201Z",
     "iopub.status.idle": "2025-07-30T18:52:53.263440Z",
     "shell.execute_reply": "2025-07-30T18:52:53.262343Z",
     "shell.execute_reply.started": "2025-07-30T18:52:53.258412Z"
    }
   },
   "outputs": [],
   "source": [
    "# student_dict[0]\n",
    "# this line will break with a KeyError (a very common error you will see with dicts)"
   ]
  },
  {
   "cell_type": "markdown",
   "id": "0ccba0b9-e984-4550-a8bb-479eaf0cc857",
   "metadata": {},
   "source": [
    "## `for` loops"
   ]
  },
  {
   "cell_type": "markdown",
   "id": "d8931c59-5373-4773-81e6-008d1bfe3b4b",
   "metadata": {},
   "source": [
    "To iterate on objects"
   ]
  },
  {
   "cell_type": "code",
   "execution_count": 13,
   "id": "3eded340-0b08-4417-a0c6-679d9860194f",
   "metadata": {
    "execution": {
     "iopub.execute_input": "2025-07-30T18:52:53.264602Z",
     "iopub.status.busy": "2025-07-30T18:52:53.264391Z",
     "iopub.status.idle": "2025-07-30T18:52:53.270998Z",
     "shell.execute_reply": "2025-07-30T18:52:53.269637Z",
     "shell.execute_reply.started": "2025-07-30T18:52:53.264584Z"
    }
   },
   "outputs": [
    {
     "data": {
      "text/plain": [
       "['apple', 'banana', 'cherry']"
      ]
     },
     "execution_count": 13,
     "metadata": {},
     "output_type": "execute_result"
    }
   ],
   "source": [
    "fruits"
   ]
  },
  {
   "cell_type": "code",
   "execution_count": 14,
   "id": "477a2c3b-5557-438d-99a9-f8381a8a1c30",
   "metadata": {
    "execution": {
     "iopub.execute_input": "2025-07-30T18:52:53.271892Z",
     "iopub.status.busy": "2025-07-30T18:52:53.271723Z",
     "iopub.status.idle": "2025-07-30T18:52:53.279130Z",
     "shell.execute_reply": "2025-07-30T18:52:53.276373Z",
     "shell.execute_reply.started": "2025-07-30T18:52:53.271876Z"
    }
   },
   "outputs": [
    {
     "name": "stdout",
     "output_type": "stream",
     "text": [
      "apple\n",
      "banana\n",
      "cherry\n"
     ]
    }
   ],
   "source": [
    "# here the variable `fruit` could be called anything\n",
    "# what is important to understand is that then this is the name given to \n",
    "# each element of the list fruits within the loop\n",
    "for fruit in fruits: \n",
    "    print(fruit)"
   ]
  },
  {
   "cell_type": "markdown",
   "id": "0c9de7b9-2d98-4b87-b500-48bee2e7c2ab",
   "metadata": {},
   "source": [
    "We can combine `for` loops with the `if` and `else` conditions we saw earlier"
   ]
  },
  {
   "cell_type": "code",
   "execution_count": 15,
   "id": "78e07dce-f2a8-4474-b469-a35964901de8",
   "metadata": {
    "execution": {
     "iopub.execute_input": "2025-07-30T18:52:53.280872Z",
     "iopub.status.busy": "2025-07-30T18:52:53.280626Z",
     "iopub.status.idle": "2025-07-30T18:52:53.290724Z",
     "shell.execute_reply": "2025-07-30T18:52:53.289394Z",
     "shell.execute_reply.started": "2025-07-30T18:52:53.280850Z"
    }
   },
   "outputs": [
    {
     "name": "stdout",
     "output_type": "stream",
     "text": [
      "apple\n",
      "banana\n"
     ]
    }
   ],
   "source": [
    "for fruit in fruits:\n",
    "    if fruit != \"cherry\":\n",
    "        print(fruit)"
   ]
  },
  {
   "cell_type": "markdown",
   "id": "85bd72b8-b3fe-49aa-b4e3-d2501eda0509",
   "metadata": {},
   "source": [
    "## API Requests"
   ]
  },
  {
   "cell_type": "markdown",
   "id": "f5834c58-816e-470c-bfe7-de9cf58215e5",
   "metadata": {},
   "source": [
    "Let's make API requests to this API: [Breaking Bad Quote](https://breakingbadquotes.xyz/)"
   ]
  },
  {
   "cell_type": "code",
   "execution_count": 16,
   "id": "d0245797-28fe-48b3-9bd9-94c1e145b8d6",
   "metadata": {
    "execution": {
     "iopub.execute_input": "2025-07-30T18:52:53.292051Z",
     "iopub.status.busy": "2025-07-30T18:52:53.291776Z",
     "iopub.status.idle": "2025-07-30T18:52:53.744184Z",
     "shell.execute_reply": "2025-07-30T18:52:53.743361Z",
     "shell.execute_reply.started": "2025-07-30T18:52:53.292029Z"
    }
   },
   "outputs": [
    {
     "data": {
      "text/plain": [
       "[{'quote': 'If you don’t know who I am, then maybe your best course would be to tread lightly.',\n",
       "  'author': 'Walter White'}]"
      ]
     },
     "execution_count": 16,
     "metadata": {},
     "output_type": "execute_result"
    }
   ],
   "source": [
    "import requests\n",
    "\n",
    "url = \"https://api.breakingbadquotes.xyz/v1/quotes\"\n",
    "# https --> Protocol\n",
    "# api.breakingbadquotes.xyz --> host\n",
    "# quotes --> endpoint\n",
    "\n",
    "requests.get(url).json()"
   ]
  }
 ],
 "metadata": {
  "kernelspec": {
   "display_name": "Python 3 (ipykernel)",
   "language": "python",
   "name": "python3"
  },
  "language_info": {
   "codemirror_mode": {
    "name": "ipython",
    "version": 3
   },
   "file_extension": ".py",
   "mimetype": "text/x-python",
   "name": "python",
   "nbconvert_exporter": "python",
   "pygments_lexer": "ipython3",
   "version": "3.12.9"
  }
 },
 "nbformat": 4,
 "nbformat_minor": 5
}
