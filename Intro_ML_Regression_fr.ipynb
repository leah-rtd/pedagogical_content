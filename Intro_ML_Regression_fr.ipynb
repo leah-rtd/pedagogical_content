{
 "cells": [
  {
   "cell_type": "markdown",
   "id": "face0288-ff7e-49b3-adeb-669b28aab089",
   "metadata": {},
   "source": [
    "# Introduction à la Régression Linéaire en Machine Learning"
   ]
  },
  {
   "cell_type": "markdown",
   "id": "f0160042-5fa5-4407-86e4-6264dca37c90",
   "metadata": {},
   "source": [
    "## La Régression Linéaire\n",
    "\n",
    "La régression linéaire cherche à ajuster une droite qui représente au mieux la relation entre une variable explicative ($x$) et une variable cible ($y$) :  \n",
    "$y = ax + b$\n",
    "\n",
    "Où :\n",
    "- $a$ est la pente de la droite\n",
    "- $b$ est l'ordonnée à l'origine\n",
    "\n",
    "L'objectif est de minimiser l'erreur entre les valeurs prédites par le modèle et les valeurs réelles observées.\n"
   ]
  },
  {
   "cell_type": "markdown",
   "id": "390a5872-67de-4add-91a6-2ea484d79f9b",
   "metadata": {},
   "source": [
    "👉 Voici une visualisation interactive pour mieux comprendre comment la droite de régression est ajustée :  \n",
    "[Visualisation dynamique](https://setosa.io/ev/ordinary-least-squares-regression/)\n"
   ]
  },
  {
   "cell_type": "markdown",
   "id": "852dc596-6eab-450a-815c-24ceca8d46d6",
   "metadata": {},
   "source": [
    "## Régression Linéaire avec `sklearn`"
   ]
  },
  {
   "cell_type": "markdown",
   "id": "92bca8e6-5670-4974-ae5e-f4b0ad3c8a66",
   "metadata": {},
   "source": [
    "Il y a deux manières de naviguer la documentation `sklearn`:\n",
    "- [User Guide](https://scikit-learn.org/stable/user_guide.html): Explication des concepts vues dans la librairie et les mathématiques qui le soulignent. Très util pour découvrir des nouveaux outils et mieux comprendre les modèles.\n",
    "- [API](https://scikit-learn.org/stable/api/index.html): Comment intéragir avec la librairie à travers Python"
   ]
  },
  {
   "cell_type": "markdown",
   "id": "67134b39-c485-42a3-94e1-51d20368bfa4",
   "metadata": {},
   "source": [
    "Pour cet exemple, nous utiliserons la dataset California Housing Dataset de `sklearn`. La documentation pour ce jeu de donnée peut etre trouvé [ici](https://scikit-learn.org/stable/datasets/real_world.html#california-housing-dataset)."
   ]
  },
  {
   "cell_type": "markdown",
   "id": "4fe25e16-06c6-4fc7-a7c1-19c3aaca0036",
   "metadata": {},
   "source": [
    "### Import du jeu de données"
   ]
  },
  {
   "cell_type": "code",
   "execution_count": 1,
   "id": "0d3258fd-f116-40ad-82cf-918e8cb09700",
   "metadata": {
    "execution": {
     "iopub.execute_input": "2025-08-02T12:51:30.295798Z",
     "iopub.status.busy": "2025-08-02T12:51:30.295175Z",
     "iopub.status.idle": "2025-08-02T12:51:30.504187Z",
     "shell.execute_reply": "2025-08-02T12:51:30.501720Z",
     "shell.execute_reply.started": "2025-08-02T12:51:30.295731Z"
    }
   },
   "outputs": [
    {
     "data": {
      "text/html": [
       "<div>\n",
       "<style scoped>\n",
       "    .dataframe tbody tr th:only-of-type {\n",
       "        vertical-align: middle;\n",
       "    }\n",
       "\n",
       "    .dataframe tbody tr th {\n",
       "        vertical-align: top;\n",
       "    }\n",
       "\n",
       "    .dataframe thead th {\n",
       "        text-align: right;\n",
       "    }\n",
       "</style>\n",
       "<table border=\"1\" class=\"dataframe\">\n",
       "  <thead>\n",
       "    <tr style=\"text-align: right;\">\n",
       "      <th></th>\n",
       "      <th>MedInc</th>\n",
       "      <th>HouseAge</th>\n",
       "      <th>AveRooms</th>\n",
       "      <th>AveBedrms</th>\n",
       "      <th>Population</th>\n",
       "      <th>AveOccup</th>\n",
       "      <th>Latitude</th>\n",
       "      <th>Longitude</th>\n",
       "    </tr>\n",
       "  </thead>\n",
       "  <tbody>\n",
       "    <tr>\n",
       "      <th>0</th>\n",
       "      <td>8.3252</td>\n",
       "      <td>41.0</td>\n",
       "      <td>6.984127</td>\n",
       "      <td>1.023810</td>\n",
       "      <td>322.0</td>\n",
       "      <td>2.555556</td>\n",
       "      <td>37.88</td>\n",
       "      <td>-122.23</td>\n",
       "    </tr>\n",
       "    <tr>\n",
       "      <th>1</th>\n",
       "      <td>8.3014</td>\n",
       "      <td>21.0</td>\n",
       "      <td>6.238137</td>\n",
       "      <td>0.971880</td>\n",
       "      <td>2401.0</td>\n",
       "      <td>2.109842</td>\n",
       "      <td>37.86</td>\n",
       "      <td>-122.22</td>\n",
       "    </tr>\n",
       "    <tr>\n",
       "      <th>2</th>\n",
       "      <td>7.2574</td>\n",
       "      <td>52.0</td>\n",
       "      <td>8.288136</td>\n",
       "      <td>1.073446</td>\n",
       "      <td>496.0</td>\n",
       "      <td>2.802260</td>\n",
       "      <td>37.85</td>\n",
       "      <td>-122.24</td>\n",
       "    </tr>\n",
       "    <tr>\n",
       "      <th>3</th>\n",
       "      <td>5.6431</td>\n",
       "      <td>52.0</td>\n",
       "      <td>5.817352</td>\n",
       "      <td>1.073059</td>\n",
       "      <td>558.0</td>\n",
       "      <td>2.547945</td>\n",
       "      <td>37.85</td>\n",
       "      <td>-122.25</td>\n",
       "    </tr>\n",
       "    <tr>\n",
       "      <th>4</th>\n",
       "      <td>3.8462</td>\n",
       "      <td>52.0</td>\n",
       "      <td>6.281853</td>\n",
       "      <td>1.081081</td>\n",
       "      <td>565.0</td>\n",
       "      <td>2.181467</td>\n",
       "      <td>37.85</td>\n",
       "      <td>-122.25</td>\n",
       "    </tr>\n",
       "  </tbody>\n",
       "</table>\n",
       "</div>"
      ],
      "text/plain": [
       "   MedInc  HouseAge  AveRooms  ...  AveOccup  Latitude  Longitude\n",
       "0  8.3252      41.0  6.984127  ...  2.555556     37.88    -122.23\n",
       "1  8.3014      21.0  6.238137  ...  2.109842     37.86    -122.22\n",
       "2  7.2574      52.0  8.288136  ...  2.802260     37.85    -122.24\n",
       "3  5.6431      52.0  5.817352  ...  2.547945     37.85    -122.25\n",
       "4  3.8462      52.0  6.281853  ...  2.181467     37.85    -122.25\n",
       "\n",
       "[5 rows x 8 columns]"
      ]
     },
     "execution_count": 1,
     "metadata": {},
     "output_type": "execute_result"
    }
   ],
   "source": [
    "from sklearn.datasets import fetch_california_housing\n",
    "import pandas as pd\n",
    "\n",
    "X, y = fetch_california_housing(as_frame = True, return_X_y= True)\n",
    "X.head()"
   ]
  },
  {
   "cell_type": "markdown",
   "id": "116aecff-73d4-42b3-b3e7-2fab95bb2cad",
   "metadata": {},
   "source": [
    "Informations sur les **features** (les variables explicatives) et la **target** (la variable cible):\n",
    "- `MedHouseValue`: notre target, représente le prix médian des maisons par California block group\n",
    "- `MedInc`: revenu médian par California block group\n",
    "- `HouseAge`: moyenne d'age des maisons par California block group\n",
    "- `AveRooms`: nombre moyen de pièces par maison\n",
    "- `AveBedrms`: nombre moyen de chambres à coucher par maison\n",
    "- `Population`: population par California block group\n",
    "- `AveOccup`: nombre moyen d'occupant par maison\n",
    "- `Latitude`: latitude du California block group\n",
    "- `Longitude`: longitude du California block group"
   ]
  },
  {
   "cell_type": "markdown",
   "id": "3d4d40e7-1c0a-40f3-b60f-8f3067c7f6b5",
   "metadata": {},
   "source": [
    "Vu que nous avons la `longitude` et la `latitude` de chaque block nous pouvons voir la distribution spatiale de notre target "
   ]
  },
  {
   "cell_type": "code",
   "execution_count": 2,
   "id": "9a44fd7d-5b8b-4bfa-b998-42dcb2139a24",
   "metadata": {
    "execution": {
     "iopub.execute_input": "2025-08-02T12:56:51.357452Z",
     "iopub.status.busy": "2025-08-02T12:56:51.356744Z",
     "iopub.status.idle": "2025-08-02T12:56:55.441881Z",
     "shell.execute_reply": "2025-08-02T12:56:55.440817Z",
     "shell.execute_reply.started": "2025-08-02T12:56:51.357420Z"
    }
   },
   "outputs": [
    {
     "data": {
      "image/png": "[encoded data removed]",
      "text/plain": [
       "<Figure size 640x480 with 1 Axes>"
      ]
     },
     "metadata": {},
     "output_type": "display_data"
    }
   ],
   "source": [
    "import pandas as pd\n",
    "import geopandas\n",
    "import matplotlib.pyplot as plt\n",
    "\n",
    "map_df = pd.concat([X[['Latitude', 'Longitude']],y], axis = 1)\n",
    "map_geodf = geopandas.GeoDataFrame(\n",
    "    map_df, geometry=geopandas.points_from_xy(map_df.Longitude, map_df.Latitude), crs=\"EPSG:4326\"\n",
    ")\n",
    "\n",
    "# On utilise le paramètre alpha de plot pour changer l'opacité des points\n",
    "# on normalise la target, les points les plus sombres ont une\n",
    "# median house value plus haute\n",
    "alpha_values = (y - y.min()) / (y.max() - y.min())\n",
    "\n",
    "map_geodf.plot(alpha=alpha_values)\n",
    "plt.show()"
   ]
  },
  {
   "cell_type": "markdown",
   "id": "6d33d206-70b3-40c4-a395-18bbfc896e09",
   "metadata": {},
   "source": [
    "### Nettoyage de la donnée"
   ]
  },
  {
   "cell_type": "code",
   "execution_count": 3,
   "id": "e5b38d21-8e5a-4cb7-90ea-800b20dc576e",
   "metadata": {
    "execution": {
     "iopub.execute_input": "2025-08-02T13:36:22.613902Z",
     "iopub.status.busy": "2025-08-02T13:36:22.612540Z",
     "iopub.status.idle": "2025-08-02T13:36:22.733555Z",
     "shell.execute_reply": "2025-08-02T13:36:22.732665Z",
     "shell.execute_reply.started": "2025-08-02T13:36:22.613836Z"
    }
   },
   "outputs": [
    {
     "name": "stdout",
     "output_type": "stream",
     "text": [
      "<class 'pandas.core.frame.DataFrame'>\n",
      "RangeIndex: 20640 entries, 0 to 20639\n",
      "Data columns (total 8 columns):\n",
      " #   Column      Non-Null Count  Dtype  \n",
      "---  ------      --------------  -----  \n",
      " 0   MedInc      20640 non-null  float64\n",
      " 1   HouseAge    20640 non-null  float64\n",
      " 2   AveRooms    20640 non-null  float64\n",
      " 3   AveBedrms   20640 non-null  float64\n",
      " 4   Population  20640 non-null  float64\n",
      " 5   AveOccup    20640 non-null  float64\n",
      " 6   Latitude    20640 non-null  float64\n",
      " 7   Longitude   20640 non-null  float64\n",
      "dtypes: float64(8)\n",
      "memory usage: 1.3 MB\n"
     ]
    }
   ],
   "source": [
    "X.info()"
   ]
  },
  {
   "cell_type": "markdown",
   "id": "ed8bda60-03ad-43bc-bfe4-a9c38c2944ce",
   "metadata": {},
   "source": [
    "Il n'y a pas de valuers manquantes donc on peut continuer avec notre analyse."
   ]
  },
  {
   "cell_type": "markdown",
   "id": "d0264502-9622-42df-9f7a-6dfc91684c98",
   "metadata": {},
   "source": [
    "### Etapes de preprocessing"
   ]
  },
  {
   "cell_type": "markdown",
   "id": "81dd02bb-f3f6-4b4a-9987-a3958aed715b",
   "metadata": {},
   "source": [
    "Vu que nous avons seulement des données numériques nous pouvons mettre à l'échelle les variables explicatives. Il y a beaucoup d'autres étapes de feature engineering et preprocessing que nous pourrions faire mais pour l'instant nous voulons passer au modélage."
   ]
  },
  {
   "cell_type": "code",
   "execution_count": 4,
   "id": "c6aa9e40-3033-4177-b28e-5ef449c07377",
   "metadata": {
    "execution": {
     "iopub.execute_input": "2025-08-02T13:38:46.558212Z",
     "iopub.status.busy": "2025-08-02T13:38:46.557770Z",
     "iopub.status.idle": "2025-08-02T13:38:46.583297Z",
     "shell.execute_reply": "2025-08-02T13:38:46.582267Z",
     "shell.execute_reply.started": "2025-08-02T13:38:46.558191Z"
    }
   },
   "outputs": [],
   "source": [
    "from sklearn.preprocessing import RobustScaler\n",
    "\n",
    "r_scaler = RobustScaler().set_output(transform = \"pandas\")\n",
    "X_scaled = r_scaler.fit_transform(X)"
   ]
  },
  {
   "cell_type": "markdown",
   "id": "b6d1c9ea-9f6c-422c-b06d-03a4b430dcdd",
   "metadata": {},
   "source": [
    "### Entrainage du modèle `LinearRegression`"
   ]
  },
  {
   "cell_type": "code",
   "execution_count": 5,
   "id": "830822b9-315c-42bd-a451-cfb48ce10c91",
   "metadata": {
    "execution": {
     "iopub.execute_input": "2025-08-02T13:41:30.643387Z",
     "iopub.status.busy": "2025-08-02T13:41:30.642466Z",
     "iopub.status.idle": "2025-08-02T13:41:30.666826Z",
     "shell.execute_reply": "2025-08-02T13:41:30.665755Z",
     "shell.execute_reply.started": "2025-08-02T13:41:30.643347Z"
    }
   },
   "outputs": [
    {
     "data": {
      "text/html": [
       "<style>#sk-container-id-1 {\n",
       "  /* Definition of color scheme common for light and dark mode */\n",
       "  --sklearn-color-text: #000;\n",
       "  --sklearn-color-text-muted: #666;\n",
       "  --sklearn-color-line: gray;\n",
       "  /* Definition of color scheme for unfitted estimators */\n",
       "  --sklearn-color-unfitted-level-0: #fff5e6;\n",
       "  --sklearn-color-unfitted-level-1: #f6e4d2;\n",
       "  --sklearn-color-unfitted-level-2: #ffe0b3;\n",
       "  --sklearn-color-unfitted-level-3: chocolate;\n",
       "  /* Definition of color scheme for fitted estimators */\n",
       "  --sklearn-color-fitted-level-0: #f0f8ff;\n",
       "  --sklearn-color-fitted-level-1: #d4ebff;\n",
       "  --sklearn-color-fitted-level-2: #b3dbfd;\n",
       "  --sklearn-color-fitted-level-3: cornflowerblue;\n",
       "\n",
       "  /* Specific color for light theme */\n",
       "  --sklearn-color-text-on-default-background: var(--sg-text-color, var(--theme-code-foreground, var(--jp-content-font-color1, black)));\n",
       "  --sklearn-color-background: var(--sg-background-color, var(--theme-background, var(--jp-layout-color0, white)));\n",
       "  --sklearn-color-border-box: var(--sg-text-color, var(--theme-code-foreground, var(--jp-content-font-color1, black)));\n",
       "  --sklearn-color-icon: #696969;\n",
       "\n",
       "  @media (prefers-color-scheme: dark) {\n",
       "    /* Redefinition of color scheme for dark theme */\n",
       "    --sklearn-color-text-on-default-background: var(--sg-text-color, var(--theme-code-foreground, var(--jp-content-font-color1, white)));\n",
       "    --sklearn-color-background: var(--sg-background-color, var(--theme-background, var(--jp-layout-color0, #111)));\n",
       "    --sklearn-color-border-box: var(--sg-text-color, var(--theme-code-foreground, var(--jp-content-font-color1, white)));\n",
       "    --sklearn-color-icon: #878787;\n",
       "  }\n",
       "}\n",
       "\n",
       "#sk-container-id-1 {\n",
       "  color: var(--sklearn-color-text);\n",
       "}\n",
       "\n",
       "#sk-container-id-1 pre {\n",
       "  padding: 0;\n",
       "}\n",
       "\n",
       "#sk-container-id-1 input.sk-hidden--visually {\n",
       "  border: 0;\n",
       "  clip: rect(1px 1px 1px 1px);\n",
       "  clip: rect(1px, 1px, 1px, 1px);\n",
       "  height: 1px;\n",
       "  margin: -1px;\n",
       "  overflow: hidden;\n",
       "  padding: 0;\n",
       "  position: absolute;\n",
       "  width: 1px;\n",
       "}\n",
       "\n",
       "#sk-container-id-1 div.sk-dashed-wrapped {\n",
       "  border: 1px dashed var(--sklearn-color-line);\n",
       "  margin: 0 0.4em 0.5em 0.4em;\n",
       "  box-sizing: border-box;\n",
       "  padding-bottom: 0.4em;\n",
       "  background-color: var(--sklearn-color-background);\n",
       "}\n",
       "\n",
       "#sk-container-id-1 div.sk-container {\n",
       "  /* jupyter's `normalize.less` sets `[hidden] { display: none; }`\n",
       "     but bootstrap.min.css set `[hidden] { display: none !important; }`\n",
       "     so we also need the `!important` here to be able to override the\n",
       "     default hidden behavior on the sphinx rendered scikit-learn.org.\n",
       "     See: https://github.com/scikit-learn/scikit-learn/issues/21755 */\n",
       "  display: inline-block !important;\n",
       "  position: relative;\n",
       "}\n",
       "\n",
       "#sk-container-id-1 div.sk-text-repr-fallback {\n",
       "  display: none;\n",
       "}\n",
       "\n",
       "div.sk-parallel-item,\n",
       "div.sk-serial,\n",
       "div.sk-item {\n",
       "  /* draw centered vertical line to link estimators */\n",
       "  background-image: linear-gradient(var(--sklearn-color-text-on-default-background), var(--sklearn-color-text-on-default-background));\n",
       "  background-size: 2px 100%;\n",
       "  background-repeat: no-repeat;\n",
       "  background-position: center center;\n",
       "}\n",
       "\n",
       "/* Parallel-specific style estimator block */\n",
       "\n",
       "#sk-container-id-1 div.sk-parallel-item::after {\n",
       "  content: \"\";\n",
       "  width: 100%;\n",
       "  border-bottom: 2px solid var(--sklearn-color-text-on-default-background);\n",
       "  flex-grow: 1;\n",
       "}\n",
       "\n",
       "#sk-container-id-1 div.sk-parallel {\n",
       "  display: flex;\n",
       "  align-items: stretch;\n",
       "  justify-content: center;\n",
       "  background-color: var(--sklearn-color-background);\n",
       "  position: relative;\n",
       "}\n",
       "\n",
       "#sk-container-id-1 div.sk-parallel-item {\n",
       "  display: flex;\n",
       "  flex-direction: column;\n",
       "}\n",
       "\n",
       "#sk-container-id-1 div.sk-parallel-item:first-child::after {\n",
       "  align-self: flex-end;\n",
       "  width: 50%;\n",
       "}\n",
       "\n",
       "#sk-container-id-1 div.sk-parallel-item:last-child::after {\n",
       "  align-self: flex-start;\n",
       "  width: 50%;\n",
       "}\n",
       "\n",
       "#sk-container-id-1 div.sk-parallel-item:only-child::after {\n",
       "  width: 0;\n",
       "}\n",
       "\n",
       "/* Serial-specific style estimator block */\n",
       "\n",
       "#sk-container-id-1 div.sk-serial {\n",
       "  display: flex;\n",
       "  flex-direction: column;\n",
       "  align-items: center;\n",
       "  background-color: var(--sklearn-color-background);\n",
       "  padding-right: 1em;\n",
       "  padding-left: 1em;\n",
       "}\n",
       "\n",
       "\n",
       "/* Toggleable style: style used for estimator/Pipeline/ColumnTransformer box that is\n",
       "clickable and can be expanded/collapsed.\n",
       "- Pipeline and ColumnTransformer use this feature and define the default style\n",
       "- Estimators will overwrite some part of the style using the `sk-estimator` class\n",
       "*/\n",
       "\n",
       "/* Pipeline and ColumnTransformer style (default) */\n",
       "\n",
       "#sk-container-id-1 div.sk-toggleable {\n",
       "  /* Default theme specific background. It is overwritten whether we have a\n",
       "  specific estimator or a Pipeline/ColumnTransformer */\n",
       "  background-color: var(--sklearn-color-background);\n",
       "}\n",
       "\n",
       "/* Toggleable label */\n",
       "#sk-container-id-1 label.sk-toggleable__label {\n",
       "  cursor: pointer;\n",
       "  display: flex;\n",
       "  width: 100%;\n",
       "  margin-bottom: 0;\n",
       "  padding: 0.5em;\n",
       "  box-sizing: border-box;\n",
       "  text-align: center;\n",
       "  align-items: start;\n",
       "  justify-content: space-between;\n",
       "  gap: 0.5em;\n",
       "}\n",
       "\n",
       "#sk-container-id-1 label.sk-toggleable__label .caption {\n",
       "  font-size: 0.6rem;\n",
       "  font-weight: lighter;\n",
       "  color: var(--sklearn-color-text-muted);\n",
       "}\n",
       "\n",
       "#sk-container-id-1 label.sk-toggleable__label-arrow:before {\n",
       "  /* Arrow on the left of the label */\n",
       "  content: \"▸\";\n",
       "  float: left;\n",
       "  margin-right: 0.25em;\n",
       "  color: var(--sklearn-color-icon);\n",
       "}\n",
       "\n",
       "#sk-container-id-1 label.sk-toggleable__label-arrow:hover:before {\n",
       "  color: var(--sklearn-color-text);\n",
       "}\n",
       "\n",
       "/* Toggleable content - dropdown */\n",
       "\n",
       "#sk-container-id-1 div.sk-toggleable__content {\n",
       "  max-height: 0;\n",
       "  max-width: 0;\n",
       "  overflow: hidden;\n",
       "  text-align: left;\n",
       "  /* unfitted */\n",
       "  background-color: var(--sklearn-color-unfitted-level-0);\n",
       "}\n",
       "\n",
       "#sk-container-id-1 div.sk-toggleable__content.fitted {\n",
       "  /* fitted */\n",
       "  background-color: var(--sklearn-color-fitted-level-0);\n",
       "}\n",
       "\n",
       "#sk-container-id-1 div.sk-toggleable__content pre {\n",
       "  margin: 0.2em;\n",
       "  border-radius: 0.25em;\n",
       "  color: var(--sklearn-color-text);\n",
       "  /* unfitted */\n",
       "  background-color: var(--sklearn-color-unfitted-level-0);\n",
       "}\n",
       "\n",
       "#sk-container-id-1 div.sk-toggleable__content.fitted pre {\n",
       "  /* unfitted */\n",
       "  background-color: var(--sklearn-color-fitted-level-0);\n",
       "}\n",
       "\n",
       "#sk-container-id-1 input.sk-toggleable__control:checked~div.sk-toggleable__content {\n",
       "  /* Expand drop-down */\n",
       "  max-height: 200px;\n",
       "  max-width: 100%;\n",
       "  overflow: auto;\n",
       "}\n",
       "\n",
       "#sk-container-id-1 input.sk-toggleable__control:checked~label.sk-toggleable__label-arrow:before {\n",
       "  content: \"▾\";\n",
       "}\n",
       "\n",
       "/* Pipeline/ColumnTransformer-specific style */\n",
       "\n",
       "#sk-container-id-1 div.sk-label input.sk-toggleable__control:checked~label.sk-toggleable__label {\n",
       "  color: var(--sklearn-color-text);\n",
       "  background-color: var(--sklearn-color-unfitted-level-2);\n",
       "}\n",
       "\n",
       "#sk-container-id-1 div.sk-label.fitted input.sk-toggleable__control:checked~label.sk-toggleable__label {\n",
       "  background-color: var(--sklearn-color-fitted-level-2);\n",
       "}\n",
       "\n",
       "/* Estimator-specific style */\n",
       "\n",
       "/* Colorize estimator box */\n",
       "#sk-container-id-1 div.sk-estimator input.sk-toggleable__control:checked~label.sk-toggleable__label {\n",
       "  /* unfitted */\n",
       "  background-color: var(--sklearn-color-unfitted-level-2);\n",
       "}\n",
       "\n",
       "#sk-container-id-1 div.sk-estimator.fitted input.sk-toggleable__control:checked~label.sk-toggleable__label {\n",
       "  /* fitted */\n",
       "  background-color: var(--sklearn-color-fitted-level-2);\n",
       "}\n",
       "\n",
       "#sk-container-id-1 div.sk-label label.sk-toggleable__label,\n",
       "#sk-container-id-1 div.sk-label label {\n",
       "  /* The background is the default theme color */\n",
       "  color: var(--sklearn-color-text-on-default-background);\n",
       "}\n",
       "\n",
       "/* On hover, darken the color of the background */\n",
       "#sk-container-id-1 div.sk-label:hover label.sk-toggleable__label {\n",
       "  color: var(--sklearn-color-text);\n",
       "  background-color: var(--sklearn-color-unfitted-level-2);\n",
       "}\n",
       "\n",
       "/* Label box, darken color on hover, fitted */\n",
       "#sk-container-id-1 div.sk-label.fitted:hover label.sk-toggleable__label.fitted {\n",
       "  color: var(--sklearn-color-text);\n",
       "  background-color: var(--sklearn-color-fitted-level-2);\n",
       "}\n",
       "\n",
       "/* Estimator label */\n",
       "\n",
       "#sk-container-id-1 div.sk-label label {\n",
       "  font-family: monospace;\n",
       "  font-weight: bold;\n",
       "  display: inline-block;\n",
       "  line-height: 1.2em;\n",
       "}\n",
       "\n",
       "#sk-container-id-1 div.sk-label-container {\n",
       "  text-align: center;\n",
       "}\n",
       "\n",
       "/* Estimator-specific */\n",
       "#sk-container-id-1 div.sk-estimator {\n",
       "  font-family: monospace;\n",
       "  border: 1px dotted var(--sklearn-color-border-box);\n",
       "  border-radius: 0.25em;\n",
       "  box-sizing: border-box;\n",
       "  margin-bottom: 0.5em;\n",
       "  /* unfitted */\n",
       "  background-color: var(--sklearn-color-unfitted-level-0);\n",
       "}\n",
       "\n",
       "#sk-container-id-1 div.sk-estimator.fitted {\n",
       "  /* fitted */\n",
       "  background-color: var(--sklearn-color-fitted-level-0);\n",
       "}\n",
       "\n",
       "/* on hover */\n",
       "#sk-container-id-1 div.sk-estimator:hover {\n",
       "  /* unfitted */\n",
       "  background-color: var(--sklearn-color-unfitted-level-2);\n",
       "}\n",
       "\n",
       "#sk-container-id-1 div.sk-estimator.fitted:hover {\n",
       "  /* fitted */\n",
       "  background-color: var(--sklearn-color-fitted-level-2);\n",
       "}\n",
       "\n",
       "/* Specification for estimator info (e.g. \"i\" and \"?\") */\n",
       "\n",
       "/* Common style for \"i\" and \"?\" */\n",
       "\n",
       ".sk-estimator-doc-link,\n",
       "a:link.sk-estimator-doc-link,\n",
       "a:visited.sk-estimator-doc-link {\n",
       "  float: right;\n",
       "  font-size: smaller;\n",
       "  line-height: 1em;\n",
       "  font-family: monospace;\n",
       "  background-color: var(--sklearn-color-background);\n",
       "  border-radius: 1em;\n",
       "  height: 1em;\n",
       "  width: 1em;\n",
       "  text-decoration: none !important;\n",
       "  margin-left: 0.5em;\n",
       "  text-align: center;\n",
       "  /* unfitted */\n",
       "  border: var(--sklearn-color-unfitted-level-1) 1pt solid;\n",
       "  color: var(--sklearn-color-unfitted-level-1);\n",
       "}\n",
       "\n",
       ".sk-estimator-doc-link.fitted,\n",
       "a:link.sk-estimator-doc-link.fitted,\n",
       "a:visited.sk-estimator-doc-link.fitted {\n",
       "  /* fitted */\n",
       "  border: var(--sklearn-color-fitted-level-1) 1pt solid;\n",
       "  color: var(--sklearn-color-fitted-level-1);\n",
       "}\n",
       "\n",
       "/* On hover */\n",
       "div.sk-estimator:hover .sk-estimator-doc-link:hover,\n",
       ".sk-estimator-doc-link:hover,\n",
       "div.sk-label-container:hover .sk-estimator-doc-link:hover,\n",
       ".sk-estimator-doc-link:hover {\n",
       "  /* unfitted */\n",
       "  background-color: var(--sklearn-color-unfitted-level-3);\n",
       "  color: var(--sklearn-color-background);\n",
       "  text-decoration: none;\n",
       "}\n",
       "\n",
       "div.sk-estimator.fitted:hover .sk-estimator-doc-link.fitted:hover,\n",
       ".sk-estimator-doc-link.fitted:hover,\n",
       "div.sk-label-container:hover .sk-estimator-doc-link.fitted:hover,\n",
       ".sk-estimator-doc-link.fitted:hover {\n",
       "  /* fitted */\n",
       "  background-color: var(--sklearn-color-fitted-level-3);\n",
       "  color: var(--sklearn-color-background);\n",
       "  text-decoration: none;\n",
       "}\n",
       "\n",
       "/* Span, style for the box shown on hovering the info icon */\n",
       ".sk-estimator-doc-link span {\n",
       "  display: none;\n",
       "  z-index: 9999;\n",
       "  position: relative;\n",
       "  font-weight: normal;\n",
       "  right: .2ex;\n",
       "  padding: .5ex;\n",
       "  margin: .5ex;\n",
       "  width: min-content;\n",
       "  min-width: 20ex;\n",
       "  max-width: 50ex;\n",
       "  color: var(--sklearn-color-text);\n",
       "  box-shadow: 2pt 2pt 4pt #999;\n",
       "  /* unfitted */\n",
       "  background: var(--sklearn-color-unfitted-level-0);\n",
       "  border: .5pt solid var(--sklearn-color-unfitted-level-3);\n",
       "}\n",
       "\n",
       ".sk-estimator-doc-link.fitted span {\n",
       "  /* fitted */\n",
       "  background: var(--sklearn-color-fitted-level-0);\n",
       "  border: var(--sklearn-color-fitted-level-3);\n",
       "}\n",
       "\n",
       ".sk-estimator-doc-link:hover span {\n",
       "  display: block;\n",
       "}\n",
       "\n",
       "/* \"?\"-specific style due to the `<a>` HTML tag */\n",
       "\n",
       "#sk-container-id-1 a.estimator_doc_link {\n",
       "  float: right;\n",
       "  font-size: 1rem;\n",
       "  line-height: 1em;\n",
       "  font-family: monospace;\n",
       "  background-color: var(--sklearn-color-background);\n",
       "  border-radius: 1rem;\n",
       "  height: 1rem;\n",
       "  width: 1rem;\n",
       "  text-decoration: none;\n",
       "  /* unfitted */\n",
       "  color: var(--sklearn-color-unfitted-level-1);\n",
       "  border: var(--sklearn-color-unfitted-level-1) 1pt solid;\n",
       "}\n",
       "\n",
       "#sk-container-id-1 a.estimator_doc_link.fitted {\n",
       "  /* fitted */\n",
       "  border: var(--sklearn-color-fitted-level-1) 1pt solid;\n",
       "  color: var(--sklearn-color-fitted-level-1);\n",
       "}\n",
       "\n",
       "/* On hover */\n",
       "#sk-container-id-1 a.estimator_doc_link:hover {\n",
       "  /* unfitted */\n",
       "  background-color: var(--sklearn-color-unfitted-level-3);\n",
       "  color: var(--sklearn-color-background);\n",
       "  text-decoration: none;\n",
       "}\n",
       "\n",
       "#sk-container-id-1 a.estimator_doc_link.fitted:hover {\n",
       "  /* fitted */\n",
       "  background-color: var(--sklearn-color-fitted-level-3);\n",
       "}\n",
       "</style><div id=\"sk-container-id-1\" class=\"sk-top-container\"><div class=\"sk-text-repr-fallback\"><pre>LinearRegression()</pre><b>In a Jupyter environment, please rerun this cell to show the HTML representation or trust the notebook. <br />On GitHub, the HTML representation is unable to render, please try loading this page with nbviewer.org.</b></div><div class=\"sk-container\" hidden><div class=\"sk-item\"><div class=\"sk-estimator fitted sk-toggleable\"><input class=\"sk-toggleable__control sk-hidden--visually\" id=\"sk-estimator-id-1\" type=\"checkbox\" checked><label for=\"sk-estimator-id-1\" class=\"sk-toggleable__label fitted sk-toggleable__label-arrow\"><div><div>LinearRegression</div></div><div><a class=\"sk-estimator-doc-link fitted\" rel=\"noreferrer\" target=\"_blank\" href=\"https://scikit-learn.org/1.6/modules/generated/sklearn.linear_model.LinearRegression.html\">?<span>Documentation for LinearRegression</span></a><span class=\"sk-estimator-doc-link fitted\">i<span>Fitted</span></span></div></label><div class=\"sk-toggleable__content fitted\"><pre>LinearRegression()</pre></div> </div></div></div></div>"
      ],
      "text/plain": [
       "LinearRegression()"
      ]
     },
     "execution_count": 5,
     "metadata": {},
     "output_type": "execute_result"
    }
   ],
   "source": [
    "# Import du modèle\n",
    "from sklearn.linear_model import LinearRegression\n",
    "\n",
    "# Instantiation du modèle\n",
    "model = LinearRegression()\n",
    "\n",
    "# Entrainement du model\n",
    "model.fit(X_scaled, y)"
   ]
  },
  {
   "cell_type": "markdown",
   "id": "ebfb40c2-6dd2-416d-b866-e2217dd73bff",
   "metadata": {},
   "source": [
    "Nous avons entrainer notre algorithme d'apprentissage 🚀  \n",
    "On peut l'utiliser pour obtenir des prédictions mais nous n'avons aucune idée si ce modèle a une bonne performance. Ici, l'étape d'évaluation du modèle est crucial."
   ]
  },
  {
   "cell_type": "markdown",
   "id": "73adc15d-f69f-4fa8-abf9-ebf6f505b1a4",
   "metadata": {},
   "source": [
    "## Comment faire la cross validation"
   ]
  },
  {
   "cell_type": "markdown",
   "id": "d83895a2-9b8c-4257-a370-0a1d3dd18593",
   "metadata": {},
   "source": [
    "#### Méthode `train_test_split` (aussi appelée Hold Out Method)"
   ]
  },
  {
   "cell_type": "code",
   "execution_count": 6,
   "id": "8124c726-7446-4f6e-814e-74a3bd151eb5",
   "metadata": {
    "execution": {
     "iopub.execute_input": "2025-08-02T13:44:35.054844Z",
     "iopub.status.busy": "2025-08-02T13:44:35.054335Z",
     "iopub.status.idle": "2025-08-02T13:44:35.105383Z",
     "shell.execute_reply": "2025-08-02T13:44:35.104544Z",
     "shell.execute_reply.started": "2025-08-02T13:44:35.054818Z"
    }
   },
   "outputs": [
    {
     "data": {
      "text/plain": [
       "0.6017954898635374"
      ]
     },
     "execution_count": 6,
     "metadata": {},
     "output_type": "execute_result"
    }
   ],
   "source": [
    "from sklearn.model_selection import train_test_split\n",
    "\n",
    "\n",
    "# Séparer nos features et target en jeu d'entrainement et jeu de test\n",
    "X_train, X_test, y_train, y_test = train_test_split(X_scaled, y, test_size = 0.3)\n",
    "\n",
    "# Instancier le modèle\n",
    "model = LinearRegression()\n",
    "\n",
    "# Entrainement du modèle\n",
    "model.fit(X_train, y_train)\n",
    "\n",
    "# Evaluation du modèle sur le jeu de test\n",
    "model.score(X_test, y_test)"
   ]
  },
  {
   "cell_type": "markdown",
   "id": "dd2217d9-a13c-4f80-a12a-9e8d39f4a0dc",
   "metadata": {},
   "source": [
    "Par défaut, le score pour la méthode `model.score()` pour une tache de régression est le $R^2$, mais ce score n'est pas très représentatif.  \n",
    "Nous allons utiliser la Root Mean Squared Error (RMSE) ou racine de l'erreur quadratique moyenne. Cette métrqiue représente l'écart-type des résidus et pénalise plus largement les grandes erreurs."
   ]
  },
  {
   "cell_type": "code",
   "execution_count": 7,
   "id": "6c46b69f-2a47-4479-83bc-fe74f1d21e4b",
   "metadata": {
    "execution": {
     "iopub.execute_input": "2025-08-02T13:47:14.275598Z",
     "iopub.status.busy": "2025-08-02T13:47:14.275167Z",
     "iopub.status.idle": "2025-08-02T13:47:14.299333Z",
     "shell.execute_reply": "2025-08-02T13:47:14.298603Z",
     "shell.execute_reply.started": "2025-08-02T13:47:14.275577Z"
    }
   },
   "outputs": [
    {
     "data": {
      "text/plain": [
       "0.7314170639322102"
      ]
     },
     "execution_count": 7,
     "metadata": {},
     "output_type": "execute_result"
    }
   ],
   "source": [
    "from sklearn.metrics import root_mean_squared_error\n",
    "\n",
    "score = root_mean_squared_error(y_true = y_test, y_pred = model.predict(X_test))\n",
    "score"
   ]
  },
  {
   "cell_type": "code",
   "execution_count": 8,
   "id": "49d4ecb3-2f2b-48dc-98c7-0da040d4dcf2",
   "metadata": {
    "execution": {
     "iopub.execute_input": "2025-08-02T13:47:55.226575Z",
     "iopub.status.busy": "2025-08-02T13:47:55.225236Z",
     "iopub.status.idle": "2025-08-02T13:47:55.234046Z",
     "shell.execute_reply": "2025-08-02T13:47:55.233136Z",
     "shell.execute_reply.started": "2025-08-02T13:47:55.226553Z"
    }
   },
   "outputs": [
    {
     "data": {
      "text/plain": [
       "73141.70639322101"
      ]
     },
     "execution_count": 8,
     "metadata": {},
     "output_type": "execute_result"
    }
   ],
   "source": [
    "score * 100_000"
   ]
  },
  {
   "cell_type": "markdown",
   "id": "3ee58f2d-fc24-41f7-952b-dbb8f9a3faa0",
   "metadata": {},
   "source": [
    "La target $y$ est le prix médian des maisons dans un California block group, ce prix est en centaines de milliers de dollars (100,000 USD).  \n",
    "Le RMSE de notre modèle est donc de 73,141 USD"
   ]
  },
  {
   "cell_type": "markdown",
   "id": "1bb3d7f0-c83e-44b0-8e8d-ba99d460f612",
   "metadata": {},
   "source": [
    "La méthode `train_test_split` n'est pas assez robuste. Nous voulons avoir une idée de la performance générale d'un modèle qui a vu toute la donnée"
   ]
  },
  {
   "cell_type": "markdown",
   "id": "5afb7ef1-c770-48d8-abd6-7e78e6fff255",
   "metadata": {},
   "source": [
    "La `K Fold Cross Validation`"
   ]
  },
  {
   "cell_type": "code",
   "execution_count": 10,
   "id": "ce5b7796-724c-4757-bff9-ec4bd6391410",
   "metadata": {
    "execution": {
     "iopub.execute_input": "2025-08-02T13:50:59.260897Z",
     "iopub.status.busy": "2025-08-02T13:50:59.259506Z",
     "iopub.status.idle": "2025-08-02T13:50:59.358259Z",
     "shell.execute_reply": "2025-08-02T13:50:59.357787Z",
     "shell.execute_reply.started": "2025-08-02T13:50:59.260871Z"
    }
   },
   "outputs": [
    {
     "data": {
      "text/plain": [
       "-0.745906836351811"
      ]
     },
     "execution_count": 10,
     "metadata": {},
     "output_type": "execute_result"
    }
   ],
   "source": [
    "from sklearn.model_selection import cross_val_score\n",
    "\n",
    "cross_val_score(LinearRegression(), X_scaled, y, cv = 5, scoring = \"neg_root_mean_squared_error\").mean()"
   ]
  },
  {
   "cell_type": "markdown",
   "id": "59b1bba5-8c3a-4e69-94ad-9103c4b1ce2e",
   "metadata": {},
   "source": [
    "Une régression linéaire hypothétique entrainée sur le jeu de données entier aurai un RMSE égal à 0.74590 ou 74,590 USD"
   ]
  },
  {
   "cell_type": "markdown",
   "id": "74d545fa-360f-48ed-85d2-81e69515c4a4",
   "metadata": {},
   "source": [
    "## Amélioration du score ?"
   ]
  },
  {
   "cell_type": "markdown",
   "id": "946abca5-215b-4411-9170-5c43a5c2c46a",
   "metadata": {},
   "source": [
    "Il y a plusieurs stratégies que nous pourrions suivre pour améliorer le score:\n",
    "- porter plus d'attention aux étapes de preprocessing\n",
    "- utiliser la latitude et la longitude de chaque observation pour créer de nouveau features,\n",
    "- utiliser un modèle plus puissant\n",
    "\n",
    "Grace à notre `LinearRegression` nous avons maintenant un score \"baseline\" à battre pendant les prochaines itération."
   ]
  }
 ],
 "metadata": {
  "kernelspec": {
   "display_name": "Python 3 (ipykernel)",
   "language": "python",
   "name": "python3"
  },
  "language_info": {
   "codemirror_mode": {
    "name": "ipython",
    "version": 3
   },
   "file_extension": ".py",
   "mimetype": "text/x-python",
   "name": "python",
   "nbconvert_exporter": "python",
   "pygments_lexer": "ipython3",
   "version": "3.12.9"
  }
 },
 "nbformat": 4,
 "nbformat_minor": 5
}
