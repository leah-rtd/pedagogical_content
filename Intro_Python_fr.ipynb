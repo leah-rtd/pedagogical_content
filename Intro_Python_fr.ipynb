{
 "cells": [
  {
   "cell_type": "markdown",
   "id": "60f03ca5-8d06-4217-87e5-8d1472653cab",
   "metadata": {},
   "source": [
    "# Rappels importants"
   ]
  },
  {
   "cell_type": "markdown",
   "id": "cea1ad9a-dda7-47c6-b685-1d180beeb745",
   "metadata": {},
   "source": [
    "## Variables et types de données"
   ]
  },
  {
   "cell_type": "markdown",
   "id": "690088f8-af06-4bc9-b632-4476097e00b4",
   "metadata": {},
   "source": [
    "Les variables sont utilisées pour stocker une valeur"
   ]
  },
  {
   "cell_type": "markdown",
   "id": "a61aa49a-cf3f-4cd5-b016-b0bd53b5770a",
   "metadata": {},
   "source": [
    "Le type de donnée est la catégorie à laquelle la donnée appartient"
   ]
  },
  {
   "cell_type": "code",
   "execution_count": 1,
   "id": "5b24be48-78e5-4220-9fc8-ec06eff9f2df",
   "metadata": {
    "execution": {
     "iopub.execute_input": "2025-07-30T18:53:22.198048Z",
     "iopub.status.busy": "2025-07-30T18:53:22.197871Z",
     "iopub.status.idle": "2025-07-30T18:53:22.202247Z",
     "shell.execute_reply": "2025-07-30T18:53:22.201220Z",
     "shell.execute_reply.started": "2025-07-30T18:53:22.198033Z"
    }
   },
   "outputs": [],
   "source": [
    "x = 5     # integer\n",
    "pi = 3.14 # float\n",
    "name = \"Alice\" # string\n",
    "is_student = True # boolean"
   ]
  },
  {
   "cell_type": "markdown",
   "id": "eed694b1-f0bf-43e2-93df-a2462f9bbf09",
   "metadata": {},
   "source": [
    "`name` est maintenant une chaine de charactères.  \n",
    "On peut donc utiliser des méthodes qui appartiennent aux chaines de charactères"
   ]
  },
  {
   "cell_type": "code",
   "execution_count": 2,
   "id": "c9d7f889-1787-4b90-9af9-eb65e3ca1fbb",
   "metadata": {
    "execution": {
     "iopub.execute_input": "2025-07-30T18:53:22.203436Z",
     "iopub.status.busy": "2025-07-30T18:53:22.203242Z",
     "iopub.status.idle": "2025-07-30T18:53:22.209988Z",
     "shell.execute_reply": "2025-07-30T18:53:22.209318Z",
     "shell.execute_reply.started": "2025-07-30T18:53:22.203419Z"
    }
   },
   "outputs": [
    {
     "data": {
      "text/plain": [
       "'alice'"
      ]
     },
     "execution_count": 2,
     "metadata": {},
     "output_type": "execute_result"
    }
   ],
   "source": [
    "name.lower()"
   ]
  },
  {
   "cell_type": "markdown",
   "id": "13fc9faf-6866-4793-b694-3a1451ab3315",
   "metadata": {},
   "source": [
    "Par contre, ces méthodes ne fonctionnent que sur les chaines de charactères  \n",
    "Nous ne pouvons pas les utiliser sur des int (nombres entiers) par exemple"
   ]
  },
  {
   "cell_type": "code",
   "execution_count": 3,
   "id": "de18a43d-0059-46ee-a171-614312f5d051",
   "metadata": {
    "execution": {
     "iopub.execute_input": "2025-07-30T18:53:22.211137Z",
     "iopub.status.busy": "2025-07-30T18:53:22.210926Z",
     "iopub.status.idle": "2025-07-30T18:53:22.214366Z",
     "shell.execute_reply": "2025-07-30T18:53:22.213621Z",
     "shell.execute_reply.started": "2025-07-30T18:53:22.211123Z"
    }
   },
   "outputs": [],
   "source": [
    "# x.lower()"
   ]
  },
  {
   "cell_type": "code",
   "execution_count": 4,
   "id": "77d0e838-f7ac-4321-9534-c396d6ca0814",
   "metadata": {
    "execution": {
     "iopub.execute_input": "2025-07-30T18:53:22.215854Z",
     "iopub.status.busy": "2025-07-30T18:53:22.215152Z",
     "iopub.status.idle": "2025-07-30T18:53:22.220281Z",
     "shell.execute_reply": "2025-07-30T18:53:22.219604Z",
     "shell.execute_reply.started": "2025-07-30T18:53:22.215833Z"
    }
   },
   "outputs": [
    {
     "data": {
      "text/plain": [
       "int"
      ]
     },
     "execution_count": 4,
     "metadata": {},
     "output_type": "execute_result"
    }
   ],
   "source": [
    "type(x)"
   ]
  },
  {
   "cell_type": "markdown",
   "id": "c9446bb8-5c9a-42ef-a230-092e4d0deb17",
   "metadata": {},
   "source": [
    "## Les conditions (`if` et `else`)"
   ]
  },
  {
   "cell_type": "markdown",
   "id": "9a4e0265-2ee7-4e8c-b671-3c53996509f7",
   "metadata": {},
   "source": [
    "Pour structurer notre code basé sur certaines conditions  \n",
    "Les différents comparateurs qu'on peut utiliser:\n",
    "- `==` egal à\n",
    "- `!=` différent de\n",
    "- `<` strictement plus petit que\n",
    "- `<=` plus petit ou égal à\n",
    "- `>` strictement plus grand que\n",
    "- `>=` plus grand ou égal à"
   ]
  },
  {
   "cell_type": "markdown",
   "id": "385ca8df-7fac-454a-92e0-59ff2741c674",
   "metadata": {},
   "source": [
    "Essayez différentes valeurs pour `age` pour voir comment change la phrase imprimée."
   ]
  },
  {
   "cell_type": "code",
   "execution_count": 5,
   "id": "65360a96-0e80-4217-a37f-97b2baeb6d86",
   "metadata": {
    "execution": {
     "iopub.execute_input": "2025-07-30T18:53:22.221101Z",
     "iopub.status.busy": "2025-07-30T18:53:22.220964Z",
     "iopub.status.idle": "2025-07-30T18:53:22.226123Z",
     "shell.execute_reply": "2025-07-30T18:53:22.225299Z",
     "shell.execute_reply.started": "2025-07-30T18:53:22.221089Z"
    }
   },
   "outputs": [
    {
     "name": "stdout",
     "output_type": "stream",
     "text": [
      "Enfant\n"
     ]
    }
   ],
   "source": [
    "age = 3\n",
    "\n",
    "if age >= 18:\n",
    "    print(\"Adulte\")\n",
    "elif age >= 13:\n",
    "    print(\"Adolescent\")\n",
    "else:\n",
    "    print(\"Enfant\")"
   ]
  },
  {
   "cell_type": "markdown",
   "id": "da669078-fcb3-4aec-92f2-58c0fc7e2c86",
   "metadata": {},
   "source": [
    "## Les fonctions"
   ]
  },
  {
   "cell_type": "markdown",
   "id": "967ba998-65f6-4e9d-be5c-f0cb1603ef6c",
   "metadata": {},
   "source": [
    "Pour regrouper du code réutilisable."
   ]
  },
  {
   "cell_type": "markdown",
   "id": "6464f705-87e3-4d44-ae04-aec065c573ce",
   "metadata": {},
   "source": [
    "Voici un exemple d'une fonction salue l'utilisateur.  \n",
    "\n",
    "Elle prend un paramètre: le nom de l'utilisateur. Si aucun paramètre n'est donné dans l'appel de fonction. Le nom par défaut sera \"Leah\".  "
   ]
  },
  {
   "cell_type": "code",
   "execution_count": 6,
   "id": "b7a7fa1e-48ef-4650-a265-d2a18724ef34",
   "metadata": {
    "execution": {
     "iopub.execute_input": "2025-07-30T18:53:22.229443Z",
     "iopub.status.busy": "2025-07-30T18:53:22.228429Z",
     "iopub.status.idle": "2025-07-30T18:53:22.241118Z",
     "shell.execute_reply": "2025-07-30T18:53:22.238105Z",
     "shell.execute_reply.started": "2025-07-30T18:53:22.229406Z"
    }
   },
   "outputs": [
    {
     "data": {
      "text/plain": [
       "'Bonjour Leah!'"
      ]
     },
     "execution_count": 6,
     "metadata": {},
     "output_type": "execute_result"
    }
   ],
   "source": [
    "name = \"Leah\"\n",
    "f\"Bonjour {name}!\""
   ]
  },
  {
   "cell_type": "code",
   "execution_count": 7,
   "id": "bb4edfa3-f215-4ef0-b026-75aaf40c4214",
   "metadata": {
    "execution": {
     "iopub.execute_input": "2025-07-30T18:53:22.242673Z",
     "iopub.status.busy": "2025-07-30T18:53:22.242328Z",
     "iopub.status.idle": "2025-07-30T18:53:22.252951Z",
     "shell.execute_reply": "2025-07-30T18:53:22.251432Z",
     "shell.execute_reply.started": "2025-07-30T18:53:22.242644Z"
    }
   },
   "outputs": [
    {
     "name": "stdout",
     "output_type": "stream",
     "text": [
      "Bonjour, Leah!\n",
      "Bonjour, Laura!\n"
     ]
    }
   ],
   "source": [
    "def greet(name = \"Leah\"):\n",
    "    return f\"Bonjour, {name}!\"\n",
    "\n",
    "\n",
    "# appel de fonction sans paramètre\n",
    "print(greet())\n",
    "\n",
    "# appel de fonction avec paramètre\n",
    "print(greet(\"Laura\"))"
   ]
  },
  {
   "cell_type": "markdown",
   "id": "9e7ccca0-bbc9-4749-a912-c6622362b0b0",
   "metadata": {},
   "source": [
    "## Les collections: `list` et `dict`"
   ]
  },
  {
   "cell_type": "code",
   "execution_count": 8,
   "id": "e0bc2b4c-f13e-42f3-83e3-7ba6579554b2",
   "metadata": {
    "execution": {
     "iopub.execute_input": "2025-07-30T18:53:22.255080Z",
     "iopub.status.busy": "2025-07-30T18:53:22.254435Z",
     "iopub.status.idle": "2025-07-30T18:53:22.263042Z",
     "shell.execute_reply": "2025-07-30T18:53:22.261570Z",
     "shell.execute_reply.started": "2025-07-30T18:53:22.255053Z"
    }
   },
   "outputs": [
    {
     "data": {
      "text/plain": [
       "'apple'"
      ]
     },
     "execution_count": 8,
     "metadata": {},
     "output_type": "execute_result"
    }
   ],
   "source": [
    "# list, collection ordonnée on accede aux elements grace a leur index\n",
    "fruits = [\"apple\", \"banana\", \"cherry\"]\n",
    "\n",
    "# en python, pour accéder à des élèments on utilise [], ça s'appelle le slicing\n",
    "fruits[0]"
   ]
  },
  {
   "cell_type": "code",
   "execution_count": 9,
   "id": "f023e064-b32d-47b3-945c-5c75d9f1e566",
   "metadata": {
    "execution": {
     "iopub.execute_input": "2025-07-30T18:53:22.264426Z",
     "iopub.status.busy": "2025-07-30T18:53:22.264155Z",
     "iopub.status.idle": "2025-07-30T18:53:22.269134Z",
     "shell.execute_reply": "2025-07-30T18:53:22.268168Z",
     "shell.execute_reply.started": "2025-07-30T18:53:22.264404Z"
    }
   },
   "outputs": [],
   "source": [
    "# les dictionnaires ne sont pas ordonnés. On retrouve les élèments grace à leur clé\n",
    "student_dict = {\n",
    "    \"first_name\": \"Leah\",\n",
    "    \"last_name\": \"Rothschild\"\n",
    "}"
   ]
  },
  {
   "cell_type": "code",
   "execution_count": 10,
   "id": "f5748bea-a638-467b-9060-54c8743865a2",
   "metadata": {
    "execution": {
     "iopub.execute_input": "2025-07-30T18:53:22.270344Z",
     "iopub.status.busy": "2025-07-30T18:53:22.269988Z",
     "iopub.status.idle": "2025-07-30T18:53:22.277842Z",
     "shell.execute_reply": "2025-07-30T18:53:22.276898Z",
     "shell.execute_reply.started": "2025-07-30T18:53:22.270325Z"
    }
   },
   "outputs": [
    {
     "data": {
      "text/plain": [
       "dict_keys(['first_name', 'last_name'])"
      ]
     },
     "execution_count": 10,
     "metadata": {},
     "output_type": "execute_result"
    }
   ],
   "source": [
    "student_dict.keys()"
   ]
  },
  {
   "cell_type": "code",
   "execution_count": 11,
   "id": "557250b8-3d4b-4d99-bc26-f22393439750",
   "metadata": {
    "execution": {
     "iopub.execute_input": "2025-07-30T18:53:22.279472Z",
     "iopub.status.busy": "2025-07-30T18:53:22.278776Z",
     "iopub.status.idle": "2025-07-30T18:53:22.292208Z",
     "shell.execute_reply": "2025-07-30T18:53:22.290748Z",
     "shell.execute_reply.started": "2025-07-30T18:53:22.279434Z"
    }
   },
   "outputs": [
    {
     "data": {
      "text/plain": [
       "'Leah'"
      ]
     },
     "execution_count": 11,
     "metadata": {},
     "output_type": "execute_result"
    }
   ],
   "source": [
    "student_dict['first_name']"
   ]
  },
  {
   "cell_type": "code",
   "execution_count": 12,
   "id": "9e0631cf-8b54-41af-827c-d68aceaa6109",
   "metadata": {
    "execution": {
     "iopub.execute_input": "2025-07-30T18:53:22.293864Z",
     "iopub.status.busy": "2025-07-30T18:53:22.293612Z",
     "iopub.status.idle": "2025-07-30T18:53:22.298667Z",
     "shell.execute_reply": "2025-07-30T18:53:22.297786Z",
     "shell.execute_reply.started": "2025-07-30T18:53:22.293843Z"
    }
   },
   "outputs": [],
   "source": [
    "# paris_dict[0]\n",
    "# cette ligne retournera une KeyError (erreur de clé)\n",
    "# cette erreur est très commune quand on manipule des dictionaires"
   ]
  },
  {
   "cell_type": "markdown",
   "id": "c7afef10-0091-4edf-a191-484df1254e19",
   "metadata": {},
   "source": [
    "## Les boucles `for`"
   ]
  },
  {
   "cell_type": "markdown",
   "id": "0359bd23-2e80-453d-ad3c-4198db128397",
   "metadata": {},
   "source": [
    "Pour itérer sur des objets"
   ]
  },
  {
   "cell_type": "code",
   "execution_count": 13,
   "id": "1ddff88c-c8cf-4f88-8f03-1b7ad31f421e",
   "metadata": {
    "execution": {
     "iopub.execute_input": "2025-07-30T18:53:22.300221Z",
     "iopub.status.busy": "2025-07-30T18:53:22.299877Z",
     "iopub.status.idle": "2025-07-30T18:53:22.309319Z",
     "shell.execute_reply": "2025-07-30T18:53:22.308079Z",
     "shell.execute_reply.started": "2025-07-30T18:53:22.300197Z"
    }
   },
   "outputs": [
    {
     "data": {
      "text/plain": [
       "['apple', 'banana', 'cherry']"
      ]
     },
     "execution_count": 13,
     "metadata": {},
     "output_type": "execute_result"
    }
   ],
   "source": [
    "fruits"
   ]
  },
  {
   "cell_type": "code",
   "execution_count": 14,
   "id": "dbf55779-22e7-442d-af06-29db89ed563d",
   "metadata": {
    "execution": {
     "iopub.execute_input": "2025-07-30T18:53:22.311257Z",
     "iopub.status.busy": "2025-07-30T18:53:22.310610Z",
     "iopub.status.idle": "2025-07-30T18:53:22.316651Z",
     "shell.execute_reply": "2025-07-30T18:53:22.315268Z",
     "shell.execute_reply.started": "2025-07-30T18:53:22.311209Z"
    }
   },
   "outputs": [
    {
     "name": "stdout",
     "output_type": "stream",
     "text": [
      "apple\n",
      "banana\n",
      "cherry\n"
     ]
    }
   ],
   "source": [
    "# ici, le nom `fruit` aurait pu etre n'importe quoi\n",
    "# l'important c'est de comprendre que cette variable contiendra à chaque\n",
    "# itération un par un, tous les élèments de la liste\n",
    "for fruit in fruits:\n",
    "    print(fruit)"
   ]
  },
  {
   "cell_type": "markdown",
   "id": "20a48158-5288-406a-81a2-b714fad358bd",
   "metadata": {},
   "source": [
    "On peut combiner les boucles `for` avec des conditions `if` et `else`"
   ]
  },
  {
   "cell_type": "code",
   "execution_count": 15,
   "id": "b6c71b63-1396-462c-a79f-5af5460c367c",
   "metadata": {
    "execution": {
     "iopub.execute_input": "2025-07-30T18:53:22.318031Z",
     "iopub.status.busy": "2025-07-30T18:53:22.317769Z",
     "iopub.status.idle": "2025-07-30T18:53:22.323474Z",
     "shell.execute_reply": "2025-07-30T18:53:22.322026Z",
     "shell.execute_reply.started": "2025-07-30T18:53:22.317981Z"
    }
   },
   "outputs": [
    {
     "name": "stdout",
     "output_type": "stream",
     "text": [
      "apple\n",
      "banana\n"
     ]
    }
   ],
   "source": [
    "for fruit in fruits:\n",
    "    if fruit != \"cherry\":\n",
    "        print(fruit)"
   ]
  },
  {
   "cell_type": "markdown",
   "id": "acc1f9f9-8cb1-4334-801b-7f600d292f6a",
   "metadata": {},
   "source": [
    "## Requete API"
   ]
  },
  {
   "cell_type": "markdown",
   "id": "45fb5ced-ee6d-467e-96e9-7e6842c75537",
   "metadata": {},
   "source": [
    "Allons voir le [Breaking Bad Quote](https://breakingbadquotes.xyz/) API "
   ]
  },
  {
   "cell_type": "code",
   "execution_count": 16,
   "id": "15d84955-ce3e-4d02-b351-dbbddb5e3ac8",
   "metadata": {
    "execution": {
     "iopub.execute_input": "2025-07-30T18:53:22.325434Z",
     "iopub.status.busy": "2025-07-30T18:53:22.325050Z",
     "iopub.status.idle": "2025-07-30T18:53:22.661329Z",
     "shell.execute_reply": "2025-07-30T18:53:22.660348Z",
     "shell.execute_reply.started": "2025-07-30T18:53:22.325391Z"
    }
   },
   "outputs": [
    {
     "data": {
      "text/plain": [
       "[{'quote': 'All bad things must come to an end.', 'author': 'Walter White'}]"
      ]
     },
     "execution_count": 16,
     "metadata": {},
     "output_type": "execute_result"
    }
   ],
   "source": [
    "import requests \n",
    "\n",
    "url = \"https://api.breakingbadquotes.xyz/v1/quotes\"\n",
    "# https --> Protocol\n",
    "# api.breakingbadquotes.xyz --> host\n",
    "# quotes --> endpoint\n",
    "\n",
    "requests.get(url).json()"
   ]
  }
 ],
 "metadata": {
  "kernelspec": {
   "display_name": "Python 3 (ipykernel)",
   "language": "python",
   "name": "python3"
  },
  "language_info": {
   "codemirror_mode": {
    "name": "ipython",
    "version": 3
   },
   "file_extension": ".py",
   "mimetype": "text/x-python",
   "name": "python",
   "nbconvert_exporter": "python",
   "pygments_lexer": "ipython3",
   "version": "3.12.9"
  }
 },
 "nbformat": 4,
 "nbformat_minor": 5
}
