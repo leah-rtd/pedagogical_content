{
 "cells": [
  {
   "cell_type": "markdown",
   "id": "3be0b5ec-91be-47a0-8e4a-03352bd20f98",
   "metadata": {},
   "source": [
    "# Data Wrangling et Statistiques"
   ]
  },
  {
   "cell_type": "markdown",
   "id": "4d1e4ea7-a41a-474d-9d3b-6f7daafa5080",
   "metadata": {},
   "source": [
    "## Imports"
   ]
  },
  {
   "cell_type": "code",
   "execution_count": 1,
   "id": "55c26d35-70a2-468c-a56b-0b2e2079a586",
   "metadata": {
    "execution": {
     "iopub.execute_input": "2025-05-22T16:37:43.123325Z",
     "iopub.status.busy": "2025-05-22T16:37:43.109182Z",
     "iopub.status.idle": "2025-05-22T16:37:48.222117Z",
     "shell.execute_reply": "2025-05-22T16:37:48.218906Z",
     "shell.execute_reply.started": "2025-05-22T16:37:43.122909Z"
    }
   },
   "outputs": [],
   "source": [
    "import pandas as pd\n",
    "import matplotlib.pyplot as plt\n",
    "import seaborn as sns"
   ]
  },
  {
   "cell_type": "code",
   "execution_count": 2,
   "id": "8d338d8e-18a2-48f6-a661-d0169b2f6052",
   "metadata": {
    "execution": {
     "iopub.execute_input": "2025-05-22T16:37:51.586056Z",
     "iopub.status.busy": "2025-05-22T16:37:51.583069Z",
     "iopub.status.idle": "2025-05-22T16:37:51.663743Z",
     "shell.execute_reply": "2025-05-22T16:37:51.661403Z",
     "shell.execute_reply.started": "2025-05-22T16:37:51.585954Z"
    }
   },
   "outputs": [
    {
     "data": {
      "text/html": [
       "<div>\n",
       "<style scoped>\n",
       "    .dataframe tbody tr th:only-of-type {\n",
       "        vertical-align: middle;\n",
       "    }\n",
       "\n",
       "    .dataframe tbody tr th {\n",
       "        vertical-align: top;\n",
       "    }\n",
       "\n",
       "    .dataframe thead th {\n",
       "        text-align: right;\n",
       "    }\n",
       "</style>\n",
       "<table border=\"1\" class=\"dataframe\">\n",
       "  <thead>\n",
       "    <tr style=\"text-align: right;\">\n",
       "      <th></th>\n",
       "      <th>sepal_length</th>\n",
       "      <th>sepal_width</th>\n",
       "      <th>petal_length</th>\n",
       "      <th>petal_width</th>\n",
       "      <th>species</th>\n",
       "    </tr>\n",
       "  </thead>\n",
       "  <tbody>\n",
       "    <tr>\n",
       "      <th>0</th>\n",
       "      <td>5.1</td>\n",
       "      <td>3.5</td>\n",
       "      <td>1.4</td>\n",
       "      <td>0.2</td>\n",
       "      <td>setosa</td>\n",
       "    </tr>\n",
       "    <tr>\n",
       "      <th>1</th>\n",
       "      <td>4.9</td>\n",
       "      <td>3.0</td>\n",
       "      <td>1.4</td>\n",
       "      <td>0.2</td>\n",
       "      <td>setosa</td>\n",
       "    </tr>\n",
       "    <tr>\n",
       "      <th>2</th>\n",
       "      <td>4.7</td>\n",
       "      <td>3.2</td>\n",
       "      <td>1.3</td>\n",
       "      <td>0.2</td>\n",
       "      <td>setosa</td>\n",
       "    </tr>\n",
       "    <tr>\n",
       "      <th>3</th>\n",
       "      <td>4.6</td>\n",
       "      <td>3.1</td>\n",
       "      <td>1.5</td>\n",
       "      <td>0.2</td>\n",
       "      <td>setosa</td>\n",
       "    </tr>\n",
       "    <tr>\n",
       "      <th>4</th>\n",
       "      <td>5.0</td>\n",
       "      <td>3.6</td>\n",
       "      <td>1.4</td>\n",
       "      <td>0.2</td>\n",
       "      <td>setosa</td>\n",
       "    </tr>\n",
       "    <tr>\n",
       "      <th>...</th>\n",
       "      <td>...</td>\n",
       "      <td>...</td>\n",
       "      <td>...</td>\n",
       "      <td>...</td>\n",
       "      <td>...</td>\n",
       "    </tr>\n",
       "    <tr>\n",
       "      <th>145</th>\n",
       "      <td>6.7</td>\n",
       "      <td>3.0</td>\n",
       "      <td>5.2</td>\n",
       "      <td>2.3</td>\n",
       "      <td>virginica</td>\n",
       "    </tr>\n",
       "    <tr>\n",
       "      <th>146</th>\n",
       "      <td>6.3</td>\n",
       "      <td>2.5</td>\n",
       "      <td>5.0</td>\n",
       "      <td>1.9</td>\n",
       "      <td>virginica</td>\n",
       "    </tr>\n",
       "    <tr>\n",
       "      <th>147</th>\n",
       "      <td>6.5</td>\n",
       "      <td>3.0</td>\n",
       "      <td>5.2</td>\n",
       "      <td>2.0</td>\n",
       "      <td>virginica</td>\n",
       "    </tr>\n",
       "    <tr>\n",
       "      <th>148</th>\n",
       "      <td>6.2</td>\n",
       "      <td>3.4</td>\n",
       "      <td>5.4</td>\n",
       "      <td>2.3</td>\n",
       "      <td>virginica</td>\n",
       "    </tr>\n",
       "    <tr>\n",
       "      <th>149</th>\n",
       "      <td>5.9</td>\n",
       "      <td>3.0</td>\n",
       "      <td>5.1</td>\n",
       "      <td>1.8</td>\n",
       "      <td>virginica</td>\n",
       "    </tr>\n",
       "  </tbody>\n",
       "</table>\n",
       "<p>150 rows × 5 columns</p>\n",
       "</div>"
      ],
      "text/plain": [
       "     sepal_length  sepal_width  petal_length  petal_width    species\n",
       "0             5.1          3.5           1.4          0.2     setosa\n",
       "1             4.9          3.0           1.4          0.2     setosa\n",
       "2             4.7          3.2           1.3          0.2     setosa\n",
       "3             4.6          3.1           1.5          0.2     setosa\n",
       "4             5.0          3.6           1.4          0.2     setosa\n",
       "..            ...          ...           ...          ...        ...\n",
       "145           6.7          3.0           5.2          2.3  virginica\n",
       "146           6.3          2.5           5.0          1.9  virginica\n",
       "147           6.5          3.0           5.2          2.0  virginica\n",
       "148           6.2          3.4           5.4          2.3  virginica\n",
       "149           5.9          3.0           5.1          1.8  virginica\n",
       "\n",
       "[150 rows x 5 columns]"
      ]
     },
     "execution_count": 2,
     "metadata": {},
     "output_type": "execute_result"
    }
   ],
   "source": [
    "iris_df = sns.load_dataset(\"iris\")\n",
    "iris_df"
   ]
  },
  {
   "cell_type": "markdown",
   "id": "44e0ba16-e950-4867-b70e-2004d391b9bf",
   "metadata": {},
   "source": [
    "## Visualisation des distributions"
   ]
  },
  {
   "cell_type": "code",
   "execution_count": 7,
   "id": "d8a3cc61-6007-47a1-ab51-2f4352736606",
   "metadata": {
    "execution": {
     "iopub.execute_input": "2025-05-22T16:42:15.911127Z",
     "iopub.status.busy": "2025-05-22T16:42:15.909188Z",
     "iopub.status.idle": "2025-05-22T16:42:16.144996Z",
     "shell.execute_reply": "2025-05-22T16:42:16.144094Z",
     "shell.execute_reply.started": "2025-05-22T16:42:15.911078Z"
    }
   },
   "outputs": [
    {
     "data": {
      "text/plain": [
       "<Axes: ylabel='Frequency'>"
      ]
     },
     "execution_count": 7,
     "metadata": {},
     "output_type": "execute_result"
    },
    {
     "data": {
      "image/png": "[encoded data removed]",
      "text/plain": [
       "<Figure size 640x480 with 1 Axes>"
      ]
     },
     "metadata": {},
     "output_type": "display_data"
    }
   ],
   "source": [
    "iris_df['sepal_width'].plot(kind =\"hist\")"
   ]
  },
  {
   "cell_type": "code",
   "execution_count": 8,
   "id": "3d12bc39-930c-4a18-aaf2-41e0fd723678",
   "metadata": {
    "execution": {
     "iopub.execute_input": "2025-05-22T16:42:33.076619Z",
     "iopub.status.busy": "2025-05-22T16:42:33.075277Z",
     "iopub.status.idle": "2025-05-22T16:42:33.354132Z",
     "shell.execute_reply": "2025-05-22T16:42:33.351772Z",
     "shell.execute_reply.started": "2025-05-22T16:42:33.076576Z"
    }
   },
   "outputs": [
    {
     "data": {
      "text/plain": [
       "<Axes: ylabel='Frequency'>"
      ]
     },
     "execution_count": 8,
     "metadata": {},
     "output_type": "execute_result"
    },
    {
     "data": {
      "image/png": "[encoded data removed]",
      "text/plain": [
       "<Figure size 640x480 with 1 Axes>"
      ]
     },
     "metadata": {},
     "output_type": "display_data"
    }
   ],
   "source": [
    "iris_df['petal_length'].plot(kind = \"hist\")"
   ]
  },
  {
   "cell_type": "markdown",
   "id": "eea94ff4-553f-45a4-9c13-cfca56c3e634",
   "metadata": {},
   "source": [
    "## Correlation"
   ]
  },
  {
   "cell_type": "code",
   "execution_count": 12,
   "id": "df405264-c77f-4565-8a9b-24c1d1ed423d",
   "metadata": {
    "execution": {
     "iopub.execute_input": "2025-05-22T16:44:54.497364Z",
     "iopub.status.busy": "2025-05-22T16:44:54.496257Z",
     "iopub.status.idle": "2025-05-22T16:44:54.524179Z",
     "shell.execute_reply": "2025-05-22T16:44:54.520843Z",
     "shell.execute_reply.started": "2025-05-22T16:44:54.497315Z"
    }
   },
   "outputs": [
    {
     "data": {
      "text/html": [
       "<div>\n",
       "<style scoped>\n",
       "    .dataframe tbody tr th:only-of-type {\n",
       "        vertical-align: middle;\n",
       "    }\n",
       "\n",
       "    .dataframe tbody tr th {\n",
       "        vertical-align: top;\n",
       "    }\n",
       "\n",
       "    .dataframe thead th {\n",
       "        text-align: right;\n",
       "    }\n",
       "</style>\n",
       "<table border=\"1\" class=\"dataframe\">\n",
       "  <thead>\n",
       "    <tr style=\"text-align: right;\">\n",
       "      <th></th>\n",
       "      <th>sepal_length</th>\n",
       "      <th>sepal_width</th>\n",
       "      <th>petal_length</th>\n",
       "      <th>petal_width</th>\n",
       "    </tr>\n",
       "  </thead>\n",
       "  <tbody>\n",
       "    <tr>\n",
       "      <th>sepal_length</th>\n",
       "      <td>1.000000</td>\n",
       "      <td>-0.117570</td>\n",
       "      <td>0.871754</td>\n",
       "      <td>0.817941</td>\n",
       "    </tr>\n",
       "    <tr>\n",
       "      <th>sepal_width</th>\n",
       "      <td>-0.117570</td>\n",
       "      <td>1.000000</td>\n",
       "      <td>-0.428440</td>\n",
       "      <td>-0.366126</td>\n",
       "    </tr>\n",
       "    <tr>\n",
       "      <th>petal_length</th>\n",
       "      <td>0.871754</td>\n",
       "      <td>-0.428440</td>\n",
       "      <td>1.000000</td>\n",
       "      <td>0.962865</td>\n",
       "    </tr>\n",
       "    <tr>\n",
       "      <th>petal_width</th>\n",
       "      <td>0.817941</td>\n",
       "      <td>-0.366126</td>\n",
       "      <td>0.962865</td>\n",
       "      <td>1.000000</td>\n",
       "    </tr>\n",
       "  </tbody>\n",
       "</table>\n",
       "</div>"
      ],
      "text/plain": [
       "              sepal_length  sepal_width  petal_length  petal_width\n",
       "sepal_length      1.000000    -0.117570      0.871754     0.817941\n",
       "sepal_width      -0.117570     1.000000     -0.428440    -0.366126\n",
       "petal_length      0.871754    -0.428440      1.000000     0.962865\n",
       "petal_width       0.817941    -0.366126      0.962865     1.000000"
      ]
     },
     "execution_count": 12,
     "metadata": {},
     "output_type": "execute_result"
    }
   ],
   "source": [
    "iris_df.corr(numeric_only = True)"
   ]
  },
  {
   "cell_type": "code",
   "execution_count": 13,
   "id": "d33197cb-4372-44ba-a1c5-a5a0ab3a1ea4",
   "metadata": {
    "execution": {
     "iopub.execute_input": "2025-05-22T16:45:04.158883Z",
     "iopub.status.busy": "2025-05-22T16:45:04.158471Z",
     "iopub.status.idle": "2025-05-22T16:45:04.525169Z",
     "shell.execute_reply": "2025-05-22T16:45:04.523057Z",
     "shell.execute_reply.started": "2025-05-22T16:45:04.158860Z"
    }
   },
   "outputs": [
    {
     "data": {
      "text/plain": [
       "<Axes: >"
      ]
     },
     "execution_count": 13,
     "metadata": {},
     "output_type": "execute_result"
    },
    {
     "data": {
      "image/png": "[encoded data removed]",
      "text/plain": [
       "<Figure size 640x480 with 2 Axes>"
      ]
     },
     "metadata": {},
     "output_type": "display_data"
    }
   ],
   "source": [
    "sns.heatmap(iris_df.corr(numeric_only = True), cmap=\"Blues\", annot = True)"
   ]
  },
  {
   "cell_type": "markdown",
   "id": "921b591e-57c3-4198-b6f7-f373c3fac1cc",
   "metadata": {
    "execution": {
     "iopub.execute_input": "2025-05-22T12:19:45.613465Z",
     "iopub.status.busy": "2025-05-22T12:19:45.608618Z",
     "iopub.status.idle": "2025-05-22T12:19:45.638881Z",
     "shell.execute_reply": "2025-05-22T12:19:45.636608Z",
     "shell.execute_reply.started": "2025-05-22T12:19:45.613090Z"
    }
   },
   "source": [
    "Quelles variables choisir pour un modèle ML ?"
   ]
  },
  {
   "cell_type": "markdown",
   "id": "99a3e798-1e3f-401b-ab5e-c3ff0ac8f308",
   "metadata": {},
   "source": [
    "On choisit les colonnes sepal_width, sepal_length, petal_length "
   ]
  },
  {
   "cell_type": "markdown",
   "id": "175b0e2d-e54f-48df-85b2-fe3778905438",
   "metadata": {},
   "source": [
    "## Préparation de la donnée "
   ]
  },
  {
   "cell_type": "code",
   "execution_count": 16,
   "id": "b897e2ce-0458-4eac-9ce5-3da3caa97567",
   "metadata": {
    "execution": {
     "iopub.execute_input": "2025-05-22T16:50:21.496451Z",
     "iopub.status.busy": "2025-05-22T16:50:21.495850Z",
     "iopub.status.idle": "2025-05-22T16:50:21.556743Z",
     "shell.execute_reply": "2025-05-22T16:50:21.553978Z",
     "shell.execute_reply.started": "2025-05-22T16:50:21.496389Z"
    }
   },
   "outputs": [
    {
     "name": "stdout",
     "output_type": "stream",
     "text": [
      "<class 'pandas.core.frame.DataFrame'>\n",
      "RangeIndex: 891 entries, 0 to 890\n",
      "Data columns (total 15 columns):\n",
      " #   Column       Non-Null Count  Dtype   \n",
      "---  ------       --------------  -----   \n",
      " 0   survived     891 non-null    int64   \n",
      " 1   pclass       891 non-null    int64   \n",
      " 2   sex          891 non-null    object  \n",
      " 3   age          714 non-null    float64 \n",
      " 4   sibsp        891 non-null    int64   \n",
      " 5   parch        891 non-null    int64   \n",
      " 6   fare         891 non-null    float64 \n",
      " 7   embarked     889 non-null    object  \n",
      " 8   class        891 non-null    category\n",
      " 9   who          891 non-null    object  \n",
      " 10  adult_male   891 non-null    bool    \n",
      " 11  deck         203 non-null    category\n",
      " 12  embark_town  889 non-null    object  \n",
      " 13  alive        891 non-null    object  \n",
      " 14  alone        891 non-null    bool    \n",
      "dtypes: bool(2), category(2), float64(2), int64(4), object(5)\n",
      "memory usage: 80.7+ KB\n"
     ]
    }
   ],
   "source": [
    "titanic_df = sns.load_dataset(\"titanic\")\n",
    "titanic_df.info()"
   ]
  },
  {
   "cell_type": "markdown",
   "id": "6289cb72-5728-4dd6-8657-75d18baab450",
   "metadata": {},
   "source": [
    "### Que faire avec la variable `deck` ?"
   ]
  },
  {
   "cell_type": "code",
   "execution_count": 18,
   "id": "5bb42e9f-5d95-423d-86c1-3df1d82cba24",
   "metadata": {
    "execution": {
     "iopub.execute_input": "2025-05-22T16:53:06.127365Z",
     "iopub.status.busy": "2025-05-22T16:53:06.126872Z",
     "iopub.status.idle": "2025-05-22T16:53:06.141153Z",
     "shell.execute_reply": "2025-05-22T16:53:06.139003Z",
     "shell.execute_reply.started": "2025-05-22T16:53:06.127332Z"
    }
   },
   "outputs": [
    {
     "data": {
      "text/plain": [
       "deck\n",
       "NaN    688\n",
       "C       59\n",
       "B       47\n",
       "D       33\n",
       "E       32\n",
       "A       15\n",
       "F       13\n",
       "G        4\n",
       "Name: count, dtype: int64"
      ]
     },
     "execution_count": 18,
     "metadata": {},
     "output_type": "execute_result"
    }
   ],
   "source": [
    "titanic_df['deck'].value_counts(dropna= False)"
   ]
  },
  {
   "cell_type": "markdown",
   "id": "cc826f83-b0bb-45cc-854e-13f7551e2df3",
   "metadata": {},
   "source": [
    "### Que faire avec la variable `age` ?"
   ]
  },
  {
   "cell_type": "code",
   "execution_count": 19,
   "id": "83f6200d-7eba-4320-91d8-e88c948afa7d",
   "metadata": {
    "execution": {
     "iopub.execute_input": "2025-05-22T16:54:21.644091Z",
     "iopub.status.busy": "2025-05-22T16:54:21.643168Z",
     "iopub.status.idle": "2025-05-22T16:54:22.243975Z",
     "shell.execute_reply": "2025-05-22T16:54:22.241579Z",
     "shell.execute_reply.started": "2025-05-22T16:54:21.644046Z"
    }
   },
   "outputs": [
    {
     "data": {
      "text/plain": [
       "<Axes: ylabel='Frequency'>"
      ]
     },
     "execution_count": 19,
     "metadata": {},
     "output_type": "execute_result"
    },
    {
     "data": {
      "image/png": "[encoded data removed]",
      "text/plain": [
       "<Figure size 640x480 with 1 Axes>"
      ]
     },
     "metadata": {},
     "output_type": "display_data"
    }
   ],
   "source": [
    "titanic_df['age'].plot(kind = \"hist\")"
   ]
  },
  {
   "cell_type": "code",
   "execution_count": 20,
   "id": "60633849-a7af-4267-ba0b-8171e3fe3400",
   "metadata": {
    "execution": {
     "iopub.execute_input": "2025-05-22T16:54:49.081333Z",
     "iopub.status.busy": "2025-05-22T16:54:49.079784Z",
     "iopub.status.idle": "2025-05-22T16:54:49.356940Z",
     "shell.execute_reply": "2025-05-22T16:54:49.355076Z",
     "shell.execute_reply.started": "2025-05-22T16:54:49.081294Z"
    }
   },
   "outputs": [
    {
     "data": {
      "text/plain": [
       "<Axes: >"
      ]
     },
     "execution_count": 20,
     "metadata": {},
     "output_type": "execute_result"
    },
    {
     "data": {
      "image/png": "[encoded data removed]",
      "text/plain": [
       "<Figure size 640x480 with 1 Axes>"
      ]
     },
     "metadata": {},
     "output_type": "display_data"
    }
   ],
   "source": [
    "titanic_df['age'].plot(kind = \"box\")"
   ]
  },
  {
   "cell_type": "code",
   "execution_count": 21,
   "id": "e118b836-612b-4b24-be43-d482c4ffc4ff",
   "metadata": {
    "execution": {
     "iopub.execute_input": "2025-05-22T16:55:44.773690Z",
     "iopub.status.busy": "2025-05-22T16:55:44.772276Z",
     "iopub.status.idle": "2025-05-22T16:55:44.817461Z",
     "shell.execute_reply": "2025-05-22T16:55:44.815013Z",
     "shell.execute_reply.started": "2025-05-22T16:55:44.773623Z"
    }
   },
   "outputs": [
    {
     "data": {
      "text/plain": [
       "(29.69911764705882, 28.0)"
      ]
     },
     "execution_count": 21,
     "metadata": {},
     "output_type": "execute_result"
    }
   ],
   "source": [
    "titanic_df['age'].mean(), titanic_df['age'].median()"
   ]
  },
  {
   "cell_type": "code",
   "execution_count": null,
   "id": "2516000f-0946-40e6-9850-6c0d51859eee",
   "metadata": {},
   "outputs": [],
   "source": []
  },
  {
   "cell_type": "markdown",
   "id": "c028067b-c37b-457d-83cc-aafc33104e98",
   "metadata": {},
   "source": [
    "## Données aberrantes"
   ]
  },
  {
   "cell_type": "markdown",
   "id": "040c6ab4-2ad9-47b0-a0e0-9785387bb423",
   "metadata": {},
   "source": [
    "### Regarder la distribution de `fare`"
   ]
  },
  {
   "cell_type": "code",
   "execution_count": 22,
   "id": "876cf0ba-da4f-4ea8-8af7-1fdf72f1c08d",
   "metadata": {
    "execution": {
     "iopub.execute_input": "2025-05-22T16:58:11.823865Z",
     "iopub.status.busy": "2025-05-22T16:58:11.821648Z",
     "iopub.status.idle": "2025-05-22T16:58:12.230266Z",
     "shell.execute_reply": "2025-05-22T16:58:12.227693Z",
     "shell.execute_reply.started": "2025-05-22T16:58:11.823788Z"
    }
   },
   "outputs": [
    {
     "data": {
      "text/plain": [
       "<Axes: ylabel='Frequency'>"
      ]
     },
     "execution_count": 22,
     "metadata": {},
     "output_type": "execute_result"
    },
    {
     "data": {
      "image/png": "[encoded data removed]",
      "text/plain": [
       "<Figure size 640x480 with 1 Axes>"
      ]
     },
     "metadata": {},
     "output_type": "display_data"
    }
   ],
   "source": [
    "titanic_df['fare'].plot(kind = \"hist\")"
   ]
  },
  {
   "cell_type": "code",
   "execution_count": 24,
   "id": "a593cd3d-4fe1-4927-be7d-e56296d1a0f6",
   "metadata": {
    "execution": {
     "iopub.execute_input": "2025-05-22T16:59:22.233392Z",
     "iopub.status.busy": "2025-05-22T16:59:22.232170Z",
     "iopub.status.idle": "2025-05-22T16:59:22.297754Z",
     "shell.execute_reply": "2025-05-22T16:59:22.296162Z",
     "shell.execute_reply.started": "2025-05-22T16:59:22.233331Z"
    }
   },
   "outputs": [
    {
     "data": {
      "text/html": [
       "<div>\n",
       "<style scoped>\n",
       "    .dataframe tbody tr th:only-of-type {\n",
       "        vertical-align: middle;\n",
       "    }\n",
       "\n",
       "    .dataframe tbody tr th {\n",
       "        vertical-align: top;\n",
       "    }\n",
       "\n",
       "    .dataframe thead th {\n",
       "        text-align: right;\n",
       "    }\n",
       "</style>\n",
       "<table border=\"1\" class=\"dataframe\">\n",
       "  <thead>\n",
       "    <tr style=\"text-align: right;\">\n",
       "      <th></th>\n",
       "      <th>survived</th>\n",
       "      <th>pclass</th>\n",
       "      <th>sex</th>\n",
       "      <th>age</th>\n",
       "      <th>sibsp</th>\n",
       "      <th>parch</th>\n",
       "      <th>fare</th>\n",
       "      <th>embarked</th>\n",
       "      <th>class</th>\n",
       "      <th>who</th>\n",
       "      <th>adult_male</th>\n",
       "      <th>deck</th>\n",
       "      <th>embark_town</th>\n",
       "      <th>alive</th>\n",
       "      <th>alone</th>\n",
       "    </tr>\n",
       "  </thead>\n",
       "  <tbody>\n",
       "    <tr>\n",
       "      <th>679</th>\n",
       "      <td>1</td>\n",
       "      <td>1</td>\n",
       "      <td>male</td>\n",
       "      <td>36.0</td>\n",
       "      <td>0</td>\n",
       "      <td>1</td>\n",
       "      <td>512.3292</td>\n",
       "      <td>C</td>\n",
       "      <td>First</td>\n",
       "      <td>man</td>\n",
       "      <td>True</td>\n",
       "      <td>B</td>\n",
       "      <td>Cherbourg</td>\n",
       "      <td>yes</td>\n",
       "      <td>False</td>\n",
       "    </tr>\n",
       "    <tr>\n",
       "      <th>737</th>\n",
       "      <td>1</td>\n",
       "      <td>1</td>\n",
       "      <td>male</td>\n",
       "      <td>35.0</td>\n",
       "      <td>0</td>\n",
       "      <td>0</td>\n",
       "      <td>512.3292</td>\n",
       "      <td>C</td>\n",
       "      <td>First</td>\n",
       "      <td>man</td>\n",
       "      <td>True</td>\n",
       "      <td>B</td>\n",
       "      <td>Cherbourg</td>\n",
       "      <td>yes</td>\n",
       "      <td>True</td>\n",
       "    </tr>\n",
       "    <tr>\n",
       "      <th>258</th>\n",
       "      <td>1</td>\n",
       "      <td>1</td>\n",
       "      <td>female</td>\n",
       "      <td>35.0</td>\n",
       "      <td>0</td>\n",
       "      <td>0</td>\n",
       "      <td>512.3292</td>\n",
       "      <td>C</td>\n",
       "      <td>First</td>\n",
       "      <td>woman</td>\n",
       "      <td>False</td>\n",
       "      <td>NaN</td>\n",
       "      <td>Cherbourg</td>\n",
       "      <td>yes</td>\n",
       "      <td>True</td>\n",
       "    </tr>\n",
       "    <tr>\n",
       "      <th>88</th>\n",
       "      <td>1</td>\n",
       "      <td>1</td>\n",
       "      <td>female</td>\n",
       "      <td>23.0</td>\n",
       "      <td>3</td>\n",
       "      <td>2</td>\n",
       "      <td>263.0000</td>\n",
       "      <td>S</td>\n",
       "      <td>First</td>\n",
       "      <td>woman</td>\n",
       "      <td>False</td>\n",
       "      <td>C</td>\n",
       "      <td>Southampton</td>\n",
       "      <td>yes</td>\n",
       "      <td>False</td>\n",
       "    </tr>\n",
       "    <tr>\n",
       "      <th>341</th>\n",
       "      <td>1</td>\n",
       "      <td>1</td>\n",
       "      <td>female</td>\n",
       "      <td>24.0</td>\n",
       "      <td>3</td>\n",
       "      <td>2</td>\n",
       "      <td>263.0000</td>\n",
       "      <td>S</td>\n",
       "      <td>First</td>\n",
       "      <td>woman</td>\n",
       "      <td>False</td>\n",
       "      <td>C</td>\n",
       "      <td>Southampton</td>\n",
       "      <td>yes</td>\n",
       "      <td>False</td>\n",
       "    </tr>\n",
       "    <tr>\n",
       "      <th>...</th>\n",
       "      <td>...</td>\n",
       "      <td>...</td>\n",
       "      <td>...</td>\n",
       "      <td>...</td>\n",
       "      <td>...</td>\n",
       "      <td>...</td>\n",
       "      <td>...</td>\n",
       "      <td>...</td>\n",
       "      <td>...</td>\n",
       "      <td>...</td>\n",
       "      <td>...</td>\n",
       "      <td>...</td>\n",
       "      <td>...</td>\n",
       "      <td>...</td>\n",
       "      <td>...</td>\n",
       "    </tr>\n",
       "    <tr>\n",
       "      <th>271</th>\n",
       "      <td>1</td>\n",
       "      <td>3</td>\n",
       "      <td>male</td>\n",
       "      <td>25.0</td>\n",
       "      <td>0</td>\n",
       "      <td>0</td>\n",
       "      <td>0.0000</td>\n",
       "      <td>S</td>\n",
       "      <td>Third</td>\n",
       "      <td>man</td>\n",
       "      <td>True</td>\n",
       "      <td>NaN</td>\n",
       "      <td>Southampton</td>\n",
       "      <td>yes</td>\n",
       "      <td>True</td>\n",
       "    </tr>\n",
       "    <tr>\n",
       "      <th>732</th>\n",
       "      <td>0</td>\n",
       "      <td>2</td>\n",
       "      <td>male</td>\n",
       "      <td>NaN</td>\n",
       "      <td>0</td>\n",
       "      <td>0</td>\n",
       "      <td>0.0000</td>\n",
       "      <td>S</td>\n",
       "      <td>Second</td>\n",
       "      <td>man</td>\n",
       "      <td>True</td>\n",
       "      <td>NaN</td>\n",
       "      <td>Southampton</td>\n",
       "      <td>no</td>\n",
       "      <td>True</td>\n",
       "    </tr>\n",
       "    <tr>\n",
       "      <th>674</th>\n",
       "      <td>0</td>\n",
       "      <td>2</td>\n",
       "      <td>male</td>\n",
       "      <td>NaN</td>\n",
       "      <td>0</td>\n",
       "      <td>0</td>\n",
       "      <td>0.0000</td>\n",
       "      <td>S</td>\n",
       "      <td>Second</td>\n",
       "      <td>man</td>\n",
       "      <td>True</td>\n",
       "      <td>NaN</td>\n",
       "      <td>Southampton</td>\n",
       "      <td>no</td>\n",
       "      <td>True</td>\n",
       "    </tr>\n",
       "    <tr>\n",
       "      <th>179</th>\n",
       "      <td>0</td>\n",
       "      <td>3</td>\n",
       "      <td>male</td>\n",
       "      <td>36.0</td>\n",
       "      <td>0</td>\n",
       "      <td>0</td>\n",
       "      <td>0.0000</td>\n",
       "      <td>S</td>\n",
       "      <td>Third</td>\n",
       "      <td>man</td>\n",
       "      <td>True</td>\n",
       "      <td>NaN</td>\n",
       "      <td>Southampton</td>\n",
       "      <td>no</td>\n",
       "      <td>True</td>\n",
       "    </tr>\n",
       "    <tr>\n",
       "      <th>806</th>\n",
       "      <td>0</td>\n",
       "      <td>1</td>\n",
       "      <td>male</td>\n",
       "      <td>39.0</td>\n",
       "      <td>0</td>\n",
       "      <td>0</td>\n",
       "      <td>0.0000</td>\n",
       "      <td>S</td>\n",
       "      <td>First</td>\n",
       "      <td>man</td>\n",
       "      <td>True</td>\n",
       "      <td>A</td>\n",
       "      <td>Southampton</td>\n",
       "      <td>no</td>\n",
       "      <td>True</td>\n",
       "    </tr>\n",
       "  </tbody>\n",
       "</table>\n",
       "<p>891 rows × 15 columns</p>\n",
       "</div>"
      ],
      "text/plain": [
       "     survived  pclass     sex   age  sibsp  parch      fare embarked   class  \\\n",
       "679         1       1    male  36.0      0      1  512.3292        C   First   \n",
       "737         1       1    male  35.0      0      0  512.3292        C   First   \n",
       "258         1       1  female  35.0      0      0  512.3292        C   First   \n",
       "88          1       1  female  23.0      3      2  263.0000        S   First   \n",
       "341         1       1  female  24.0      3      2  263.0000        S   First   \n",
       "..        ...     ...     ...   ...    ...    ...       ...      ...     ...   \n",
       "271         1       3    male  25.0      0      0    0.0000        S   Third   \n",
       "732         0       2    male   NaN      0      0    0.0000        S  Second   \n",
       "674         0       2    male   NaN      0      0    0.0000        S  Second   \n",
       "179         0       3    male  36.0      0      0    0.0000        S   Third   \n",
       "806         0       1    male  39.0      0      0    0.0000        S   First   \n",
       "\n",
       "       who  adult_male deck  embark_town alive  alone  \n",
       "679    man        True    B    Cherbourg   yes  False  \n",
       "737    man        True    B    Cherbourg   yes   True  \n",
       "258  woman       False  NaN    Cherbourg   yes   True  \n",
       "88   woman       False    C  Southampton   yes  False  \n",
       "341  woman       False    C  Southampton   yes  False  \n",
       "..     ...         ...  ...          ...   ...    ...  \n",
       "271    man        True  NaN  Southampton   yes   True  \n",
       "732    man        True  NaN  Southampton    no   True  \n",
       "674    man        True  NaN  Southampton    no   True  \n",
       "179    man        True  NaN  Southampton    no   True  \n",
       "806    man        True    A  Southampton    no   True  \n",
       "\n",
       "[891 rows x 15 columns]"
      ]
     },
     "execution_count": 24,
     "metadata": {},
     "output_type": "execute_result"
    }
   ],
   "source": [
    "titanic_df.sort_values(by = \"fare\", ascending = False)"
   ]
  },
  {
   "cell_type": "code",
   "execution_count": 27,
   "id": "f0059aab-0153-4b21-9d2c-a579c9767a36",
   "metadata": {
    "execution": {
     "iopub.execute_input": "2025-05-22T17:01:20.013332Z",
     "iopub.status.busy": "2025-05-22T17:01:20.011451Z",
     "iopub.status.idle": "2025-05-22T17:01:20.088100Z",
     "shell.execute_reply": "2025-05-22T17:01:20.086293Z",
     "shell.execute_reply.started": "2025-05-22T17:01:20.013254Z"
    }
   },
   "outputs": [
    {
     "data": {
      "text/html": [
       "<div>\n",
       "<style scoped>\n",
       "    .dataframe tbody tr th:only-of-type {\n",
       "        vertical-align: middle;\n",
       "    }\n",
       "\n",
       "    .dataframe tbody tr th {\n",
       "        vertical-align: top;\n",
       "    }\n",
       "\n",
       "    .dataframe thead th {\n",
       "        text-align: right;\n",
       "    }\n",
       "</style>\n",
       "<table border=\"1\" class=\"dataframe\">\n",
       "  <thead>\n",
       "    <tr style=\"text-align: right;\">\n",
       "      <th></th>\n",
       "      <th>survived</th>\n",
       "      <th>pclass</th>\n",
       "      <th>sex</th>\n",
       "      <th>age</th>\n",
       "      <th>sibsp</th>\n",
       "      <th>parch</th>\n",
       "      <th>fare</th>\n",
       "      <th>embarked</th>\n",
       "      <th>class</th>\n",
       "      <th>who</th>\n",
       "      <th>adult_male</th>\n",
       "      <th>deck</th>\n",
       "      <th>embark_town</th>\n",
       "      <th>alive</th>\n",
       "      <th>alone</th>\n",
       "    </tr>\n",
       "  </thead>\n",
       "  <tbody>\n",
       "    <tr>\n",
       "      <th>1</th>\n",
       "      <td>1</td>\n",
       "      <td>1</td>\n",
       "      <td>female</td>\n",
       "      <td>38.0</td>\n",
       "      <td>1</td>\n",
       "      <td>0</td>\n",
       "      <td>71.2833</td>\n",
       "      <td>C</td>\n",
       "      <td>First</td>\n",
       "      <td>woman</td>\n",
       "      <td>False</td>\n",
       "      <td>C</td>\n",
       "      <td>Cherbourg</td>\n",
       "      <td>yes</td>\n",
       "      <td>False</td>\n",
       "    </tr>\n",
       "    <tr>\n",
       "      <th>9</th>\n",
       "      <td>1</td>\n",
       "      <td>2</td>\n",
       "      <td>female</td>\n",
       "      <td>14.0</td>\n",
       "      <td>1</td>\n",
       "      <td>0</td>\n",
       "      <td>30.0708</td>\n",
       "      <td>C</td>\n",
       "      <td>Second</td>\n",
       "      <td>child</td>\n",
       "      <td>False</td>\n",
       "      <td>NaN</td>\n",
       "      <td>Cherbourg</td>\n",
       "      <td>yes</td>\n",
       "      <td>False</td>\n",
       "    </tr>\n",
       "    <tr>\n",
       "      <th>19</th>\n",
       "      <td>1</td>\n",
       "      <td>3</td>\n",
       "      <td>female</td>\n",
       "      <td>NaN</td>\n",
       "      <td>0</td>\n",
       "      <td>0</td>\n",
       "      <td>7.2250</td>\n",
       "      <td>C</td>\n",
       "      <td>Third</td>\n",
       "      <td>woman</td>\n",
       "      <td>False</td>\n",
       "      <td>NaN</td>\n",
       "      <td>Cherbourg</td>\n",
       "      <td>yes</td>\n",
       "      <td>True</td>\n",
       "    </tr>\n",
       "    <tr>\n",
       "      <th>26</th>\n",
       "      <td>0</td>\n",
       "      <td>3</td>\n",
       "      <td>male</td>\n",
       "      <td>NaN</td>\n",
       "      <td>0</td>\n",
       "      <td>0</td>\n",
       "      <td>7.2250</td>\n",
       "      <td>C</td>\n",
       "      <td>Third</td>\n",
       "      <td>man</td>\n",
       "      <td>True</td>\n",
       "      <td>NaN</td>\n",
       "      <td>Cherbourg</td>\n",
       "      <td>no</td>\n",
       "      <td>True</td>\n",
       "    </tr>\n",
       "    <tr>\n",
       "      <th>30</th>\n",
       "      <td>0</td>\n",
       "      <td>1</td>\n",
       "      <td>male</td>\n",
       "      <td>40.0</td>\n",
       "      <td>0</td>\n",
       "      <td>0</td>\n",
       "      <td>27.7208</td>\n",
       "      <td>C</td>\n",
       "      <td>First</td>\n",
       "      <td>man</td>\n",
       "      <td>True</td>\n",
       "      <td>NaN</td>\n",
       "      <td>Cherbourg</td>\n",
       "      <td>no</td>\n",
       "      <td>True</td>\n",
       "    </tr>\n",
       "    <tr>\n",
       "      <th>...</th>\n",
       "      <td>...</td>\n",
       "      <td>...</td>\n",
       "      <td>...</td>\n",
       "      <td>...</td>\n",
       "      <td>...</td>\n",
       "      <td>...</td>\n",
       "      <td>...</td>\n",
       "      <td>...</td>\n",
       "      <td>...</td>\n",
       "      <td>...</td>\n",
       "      <td>...</td>\n",
       "      <td>...</td>\n",
       "      <td>...</td>\n",
       "      <td>...</td>\n",
       "      <td>...</td>\n",
       "    </tr>\n",
       "    <tr>\n",
       "      <th>866</th>\n",
       "      <td>1</td>\n",
       "      <td>2</td>\n",
       "      <td>female</td>\n",
       "      <td>27.0</td>\n",
       "      <td>1</td>\n",
       "      <td>0</td>\n",
       "      <td>13.8583</td>\n",
       "      <td>C</td>\n",
       "      <td>Second</td>\n",
       "      <td>woman</td>\n",
       "      <td>False</td>\n",
       "      <td>NaN</td>\n",
       "      <td>Cherbourg</td>\n",
       "      <td>yes</td>\n",
       "      <td>False</td>\n",
       "    </tr>\n",
       "    <tr>\n",
       "      <th>874</th>\n",
       "      <td>1</td>\n",
       "      <td>2</td>\n",
       "      <td>female</td>\n",
       "      <td>28.0</td>\n",
       "      <td>1</td>\n",
       "      <td>0</td>\n",
       "      <td>24.0000</td>\n",
       "      <td>C</td>\n",
       "      <td>Second</td>\n",
       "      <td>woman</td>\n",
       "      <td>False</td>\n",
       "      <td>NaN</td>\n",
       "      <td>Cherbourg</td>\n",
       "      <td>yes</td>\n",
       "      <td>False</td>\n",
       "    </tr>\n",
       "    <tr>\n",
       "      <th>875</th>\n",
       "      <td>1</td>\n",
       "      <td>3</td>\n",
       "      <td>female</td>\n",
       "      <td>15.0</td>\n",
       "      <td>0</td>\n",
       "      <td>0</td>\n",
       "      <td>7.2250</td>\n",
       "      <td>C</td>\n",
       "      <td>Third</td>\n",
       "      <td>child</td>\n",
       "      <td>False</td>\n",
       "      <td>NaN</td>\n",
       "      <td>Cherbourg</td>\n",
       "      <td>yes</td>\n",
       "      <td>True</td>\n",
       "    </tr>\n",
       "    <tr>\n",
       "      <th>879</th>\n",
       "      <td>1</td>\n",
       "      <td>1</td>\n",
       "      <td>female</td>\n",
       "      <td>56.0</td>\n",
       "      <td>0</td>\n",
       "      <td>1</td>\n",
       "      <td>83.1583</td>\n",
       "      <td>C</td>\n",
       "      <td>First</td>\n",
       "      <td>woman</td>\n",
       "      <td>False</td>\n",
       "      <td>C</td>\n",
       "      <td>Cherbourg</td>\n",
       "      <td>yes</td>\n",
       "      <td>False</td>\n",
       "    </tr>\n",
       "    <tr>\n",
       "      <th>889</th>\n",
       "      <td>1</td>\n",
       "      <td>1</td>\n",
       "      <td>male</td>\n",
       "      <td>26.0</td>\n",
       "      <td>0</td>\n",
       "      <td>0</td>\n",
       "      <td>30.0000</td>\n",
       "      <td>C</td>\n",
       "      <td>First</td>\n",
       "      <td>man</td>\n",
       "      <td>True</td>\n",
       "      <td>C</td>\n",
       "      <td>Cherbourg</td>\n",
       "      <td>yes</td>\n",
       "      <td>True</td>\n",
       "    </tr>\n",
       "  </tbody>\n",
       "</table>\n",
       "<p>168 rows × 15 columns</p>\n",
       "</div>"
      ],
      "text/plain": [
       "     survived  pclass     sex   age  sibsp  parch     fare embarked   class  \\\n",
       "1           1       1  female  38.0      1      0  71.2833        C   First   \n",
       "9           1       2  female  14.0      1      0  30.0708        C  Second   \n",
       "19          1       3  female   NaN      0      0   7.2250        C   Third   \n",
       "26          0       3    male   NaN      0      0   7.2250        C   Third   \n",
       "30          0       1    male  40.0      0      0  27.7208        C   First   \n",
       "..        ...     ...     ...   ...    ...    ...      ...      ...     ...   \n",
       "866         1       2  female  27.0      1      0  13.8583        C  Second   \n",
       "874         1       2  female  28.0      1      0  24.0000        C  Second   \n",
       "875         1       3  female  15.0      0      0   7.2250        C   Third   \n",
       "879         1       1  female  56.0      0      1  83.1583        C   First   \n",
       "889         1       1    male  26.0      0      0  30.0000        C   First   \n",
       "\n",
       "       who  adult_male deck embark_town alive  alone  \n",
       "1    woman       False    C   Cherbourg   yes  False  \n",
       "9    child       False  NaN   Cherbourg   yes  False  \n",
       "19   woman       False  NaN   Cherbourg   yes   True  \n",
       "26     man        True  NaN   Cherbourg    no   True  \n",
       "30     man        True  NaN   Cherbourg    no   True  \n",
       "..     ...         ...  ...         ...   ...    ...  \n",
       "866  woman       False  NaN   Cherbourg   yes  False  \n",
       "874  woman       False  NaN   Cherbourg   yes  False  \n",
       "875  child       False  NaN   Cherbourg   yes   True  \n",
       "879  woman       False    C   Cherbourg   yes  False  \n",
       "889    man        True    C   Cherbourg   yes   True  \n",
       "\n",
       "[168 rows x 15 columns]"
      ]
     },
     "execution_count": 27,
     "metadata": {},
     "output_type": "execute_result"
    }
   ],
   "source": [
    "titanic_df[titanic_df['embark_town'] == \"Cherbourg\"]"
   ]
  },
  {
   "cell_type": "code",
   "execution_count": 25,
   "id": "704927e6-fa94-4065-bffb-67600d2a0e12",
   "metadata": {
    "execution": {
     "iopub.execute_input": "2025-05-22T16:59:57.793096Z",
     "iopub.status.busy": "2025-05-22T16:59:57.791705Z",
     "iopub.status.idle": "2025-05-22T16:59:58.135337Z",
     "shell.execute_reply": "2025-05-22T16:59:58.134074Z",
     "shell.execute_reply.started": "2025-05-22T16:59:57.793050Z"
    }
   },
   "outputs": [
    {
     "data": {
      "text/plain": [
       "<Axes: ylabel='Frequency'>"
      ]
     },
     "execution_count": 25,
     "metadata": {},
     "output_type": "execute_result"
    },
    {
     "data": {
      "image/png": "[encoded data removed]",
      "text/plain": [
       "<Figure size 640x480 with 1 Axes>"
      ]
     },
     "metadata": {},
     "output_type": "display_data"
    }
   ],
   "source": [
    "titanic_df[titanic_df['fare'] < 500]['fare'].plot(kind = \"hist\")"
   ]
  },
  {
   "cell_type": "code",
   "execution_count": 26,
   "id": "12e3fdfc-1c37-429f-a94e-c9f1beab1575",
   "metadata": {
    "execution": {
     "iopub.execute_input": "2025-05-22T17:00:26.287106Z",
     "iopub.status.busy": "2025-05-22T17:00:26.286632Z",
     "iopub.status.idle": "2025-05-22T17:00:26.305911Z",
     "shell.execute_reply": "2025-05-22T17:00:26.302800Z",
     "shell.execute_reply.started": "2025-05-22T17:00:26.287073Z"
    }
   },
   "outputs": [
    {
     "data": {
      "text/plain": [
       "(32.204207968574636, 14.4542)"
      ]
     },
     "execution_count": 26,
     "metadata": {},
     "output_type": "execute_result"
    }
   ],
   "source": [
    "titanic_df['fare'].mean(), titanic_df['fare'].median()"
   ]
  },
  {
   "cell_type": "markdown",
   "id": "0e7eaaef-f7a0-40c1-b024-be5381207520",
   "metadata": {},
   "source": [
    "## Pourquoi ces notions sont importantes dans un contexte de Machine Learning ?"
   ]
  },
  {
   "cell_type": "markdown",
   "id": "bbaf3168-069b-4068-b0ec-0a811717f58e",
   "metadata": {},
   "source": [
    "1. Comprendre les données : Les statistiques descriptives (moyenne, médiane, variance, etc.) permettent de mieux comprendre la distribution des variables, de détecter les valeurs aberrantes et d'avoir une idée générale de la qualité des données.\n",
    "\n",
    "2. Prétraitement : Avant d'entraîner un modèle de ML, il est crucial de nettoyerles données et décider que faire avec les valeurs aberrantes.\n",
    "\n",
    "3. Choix des variables : L'analyse statistique aide à identifier les variables les plus pertinentes pour le modèle. Les techniques comme l'analyse de corrélation permettent de détecter les relations entre variables et d'éliminer celles qui sont redondantes ou peu informatives. \n",
    "\n",
    "4. Choix des modèles : Certaines techniques de ML supposent que les données suivent une distribution spécifique (on en reparlera dans le module Machine Learning)\n",
    "\n",
    "5. Évaluation : Les mesures de performance des modèles sont basées sur des principes statistiques. Comprendre ces métriques est essentiel pour évaluer et comparer les modèles (on en reparlera dans le module Machine Learning)\n",
    "\n",
    "En résumé, une bonne maîtrise des statistiques est indispensable pour tout praticien en machine learning, que ce soit pour explorer les données, construire des modèles robustes ou interpréter les résultats de manière fiable.\n"
   ]
  }
 ],
 "metadata": {
  "kernelspec": {
   "display_name": "Python 3 (ipykernel)",
   "language": "python",
   "name": "python3"
  },
  "language_info": {
   "codemirror_mode": {
    "name": "ipython",
    "version": 3
   },
   "file_extension": ".py",
   "mimetype": "text/x-python",
   "name": "python",
   "nbconvert_exporter": "python",
   "pygments_lexer": "ipython3",
   "version": "3.12.9"
  }
 },
 "nbformat": 4,
 "nbformat_minor": 5
}
