{
 "cells": [
  {
   "cell_type": "markdown",
   "id": "60f03ca5-8d06-4217-87e5-8d1472653cab",
   "metadata": {},
   "source": [
    "# Points importants du cours"
   ]
  },
  {
   "cell_type": "markdown",
   "id": "cea1ad9a-dda7-47c6-b685-1d180beeb745",
   "metadata": {},
   "source": [
    "## Variables et types de données"
   ]
  },
  {
   "cell_type": "markdown",
   "id": "690088f8-af06-4bc9-b632-4476097e00b4",
   "metadata": {},
   "source": [
    "Les variables sont utilisées pour stocker une valeur"
   ]
  },
  {
   "cell_type": "markdown",
   "id": "a61aa49a-cf3f-4cd5-b016-b0bd53b5770a",
   "metadata": {},
   "source": [
    "Le type de donnée est la catégorie à laquelle la donnée appartient"
   ]
  },
  {
   "cell_type": "code",
   "execution_count": 1,
   "id": "5b24be48-78e5-4220-9fc8-ec06eff9f2df",
   "metadata": {
    "execution": {
     "iopub.execute_input": "2025-05-15T16:33:12.710894Z",
     "iopub.status.busy": "2025-05-15T16:33:12.709422Z",
     "iopub.status.idle": "2025-05-15T16:33:12.725353Z",
     "shell.execute_reply": "2025-05-15T16:33:12.723844Z",
     "shell.execute_reply.started": "2025-05-15T16:33:12.710770Z"
    }
   },
   "outputs": [],
   "source": [
    "x = 5     # integer\n",
    "pi = 3.14 # float\n",
    "name = \"Alice\" # string\n",
    "is_student = True # boolean"
   ]
  },
  {
   "cell_type": "code",
   "execution_count": 5,
   "id": "c9d7f889-1787-4b90-9af9-eb65e3ca1fbb",
   "metadata": {
    "execution": {
     "iopub.execute_input": "2025-05-15T16:34:26.282755Z",
     "iopub.status.busy": "2025-05-15T16:34:26.282104Z",
     "iopub.status.idle": "2025-05-15T16:34:26.294405Z",
     "shell.execute_reply": "2025-05-15T16:34:26.291517Z",
     "shell.execute_reply.started": "2025-05-15T16:34:26.282720Z"
    }
   },
   "outputs": [
    {
     "data": {
      "text/plain": [
       "'alice'"
      ]
     },
     "execution_count": 5,
     "metadata": {},
     "output_type": "execute_result"
    }
   ],
   "source": [
    "name.lower()"
   ]
  },
  {
   "cell_type": "code",
   "execution_count": 6,
   "id": "de18a43d-0059-46ee-a171-614312f5d051",
   "metadata": {
    "execution": {
     "iopub.execute_input": "2025-05-15T16:34:37.892522Z",
     "iopub.status.busy": "2025-05-15T16:34:37.890528Z",
     "iopub.status.idle": "2025-05-15T16:34:38.315097Z",
     "shell.execute_reply": "2025-05-15T16:34:38.312900Z",
     "shell.execute_reply.started": "2025-05-15T16:34:37.892438Z"
    }
   },
   "outputs": [
    {
     "ename": "AttributeError",
     "evalue": "'int' object has no attribute 'lower'",
     "output_type": "error",
     "traceback": [
      "\u001b[0;31m---------------------------------------------------------------------------\u001b[0m",
      "\u001b[0;31mAttributeError\u001b[0m                            Traceback (most recent call last)",
      "Cell \u001b[0;32mIn[6], line 1\u001b[0m\n\u001b[0;32m----> 1\u001b[0m \u001b[43mx\u001b[49m\u001b[38;5;241;43m.\u001b[39;49m\u001b[43mlower\u001b[49m()\n",
      "\u001b[0;31mAttributeError\u001b[0m: 'int' object has no attribute 'lower'"
     ]
    }
   ],
   "source": [
    "x.lower()"
   ]
  },
  {
   "cell_type": "code",
   "execution_count": 7,
   "id": "77d0e838-f7ac-4321-9534-c396d6ca0814",
   "metadata": {
    "execution": {
     "iopub.execute_input": "2025-05-15T16:35:01.341048Z",
     "iopub.status.busy": "2025-05-15T16:35:01.340565Z",
     "iopub.status.idle": "2025-05-15T16:35:01.348929Z",
     "shell.execute_reply": "2025-05-15T16:35:01.347765Z",
     "shell.execute_reply.started": "2025-05-15T16:35:01.341019Z"
    }
   },
   "outputs": [
    {
     "data": {
      "text/plain": [
       "int"
      ]
     },
     "execution_count": 7,
     "metadata": {},
     "output_type": "execute_result"
    }
   ],
   "source": [
    "type(x)"
   ]
  },
  {
   "cell_type": "markdown",
   "id": "c9446bb8-5c9a-42ef-a230-092e4d0deb17",
   "metadata": {},
   "source": [
    "## Les conditions (`if` et `else`)"
   ]
  },
  {
   "cell_type": "markdown",
   "id": "9a4e0265-2ee7-4e8c-b671-3c53996509f7",
   "metadata": {},
   "source": [
    "Pour structurer notre code basé sur certaines conditions  \n",
    "Les différents comparateurs qu'on peut utiliser:\n",
    "- `==` egal à\n",
    "- `!=` différent de\n",
    "- `<` strictement plus petit que\n",
    "- `<` plus petit ou égal à\n",
    "- `>` strictement plus grand que\n",
    "- `>=` plus grand ou égal à"
   ]
  },
  {
   "cell_type": "code",
   "execution_count": 11,
   "id": "65360a96-0e80-4217-a37f-97b2baeb6d86",
   "metadata": {
    "execution": {
     "iopub.execute_input": "2025-05-15T16:37:20.124429Z",
     "iopub.status.busy": "2025-05-15T16:37:20.123367Z",
     "iopub.status.idle": "2025-05-15T16:37:20.135650Z",
     "shell.execute_reply": "2025-05-15T16:37:20.133613Z",
     "shell.execute_reply.started": "2025-05-15T16:37:20.124289Z"
    }
   },
   "outputs": [
    {
     "name": "stdout",
     "output_type": "stream",
     "text": [
      "Enfant\n"
     ]
    }
   ],
   "source": [
    "age = 3\n",
    "\n",
    "if age >= 18:\n",
    "    print(\"Adulte\")\n",
    "elif age >= 13:\n",
    "    print(\"Adolescent\")\n",
    "else:\n",
    "    print(\"Enfant\")"
   ]
  },
  {
   "cell_type": "markdown",
   "id": "da669078-fcb3-4aec-92f2-58c0fc7e2c86",
   "metadata": {},
   "source": [
    "## Les fonctions"
   ]
  },
  {
   "cell_type": "markdown",
   "id": "967ba998-65f6-4e9d-be5c-f0cb1603ef6c",
   "metadata": {},
   "source": [
    "Pour regrouper du code réutilisable"
   ]
  },
  {
   "cell_type": "code",
   "execution_count": 16,
   "id": "fa28170d-4e81-4afa-b8ce-1428077fd1c9",
   "metadata": {
    "execution": {
     "iopub.execute_input": "2025-05-15T16:40:13.946629Z",
     "iopub.status.busy": "2025-05-15T16:40:13.945943Z",
     "iopub.status.idle": "2025-05-15T16:40:13.959742Z",
     "shell.execute_reply": "2025-05-15T16:40:13.957856Z",
     "shell.execute_reply.started": "2025-05-15T16:40:13.946592Z"
    }
   },
   "outputs": [
    {
     "data": {
      "text/plain": [
       "'Hello World !'"
      ]
     },
     "execution_count": 16,
     "metadata": {},
     "output_type": "execute_result"
    }
   ],
   "source": [
    "\"Hello World !\""
   ]
  },
  {
   "cell_type": "code",
   "execution_count": 19,
   "id": "b7a7fa1e-48ef-4650-a265-d2a18724ef34",
   "metadata": {
    "execution": {
     "iopub.execute_input": "2025-05-15T16:41:06.343844Z",
     "iopub.status.busy": "2025-05-15T16:41:06.342724Z",
     "iopub.status.idle": "2025-05-15T16:41:06.361273Z",
     "shell.execute_reply": "2025-05-15T16:41:06.354801Z",
     "shell.execute_reply.started": "2025-05-15T16:41:06.343788Z"
    }
   },
   "outputs": [
    {
     "data": {
      "text/plain": [
       "'Hello Leah how are you ?'"
      ]
     },
     "execution_count": 19,
     "metadata": {},
     "output_type": "execute_result"
    }
   ],
   "source": [
    "name = \"Leah\"\n",
    "f\"Hello {name} how are you ?\""
   ]
  },
  {
   "cell_type": "code",
   "execution_count": 22,
   "id": "bb4edfa3-f215-4ef0-b026-75aaf40c4214",
   "metadata": {
    "execution": {
     "iopub.execute_input": "2025-05-15T16:41:59.118113Z",
     "iopub.status.busy": "2025-05-15T16:41:59.116910Z",
     "iopub.status.idle": "2025-05-15T16:41:59.128247Z",
     "shell.execute_reply": "2025-05-15T16:41:59.126017Z",
     "shell.execute_reply.started": "2025-05-15T16:41:59.118077Z"
    }
   },
   "outputs": [
    {
     "data": {
      "text/plain": [
       "'Hello, !'"
      ]
     },
     "execution_count": 22,
     "metadata": {},
     "output_type": "execute_result"
    }
   ],
   "source": [
    "def greet(name = \"Paul\"):\n",
    "    return f\"Hello, {name}!\"\n",
    "\n",
    "\n",
    "# appel de fonction \n",
    "greet(\"\")"
   ]
  },
  {
   "cell_type": "markdown",
   "id": "9e7ccca0-bbc9-4749-a912-c6622362b0b0",
   "metadata": {},
   "source": [
    "## Les collections: `list` et `dict`"
   ]
  },
  {
   "cell_type": "code",
   "execution_count": 23,
   "id": "e0bc2b4c-f13e-42f3-83e3-7ba6579554b2",
   "metadata": {
    "execution": {
     "iopub.execute_input": "2025-05-15T16:43:07.946427Z",
     "iopub.status.busy": "2025-05-15T16:43:07.945453Z",
     "iopub.status.idle": "2025-05-15T16:43:07.958949Z",
     "shell.execute_reply": "2025-05-15T16:43:07.956644Z",
     "shell.execute_reply.started": "2025-05-15T16:43:07.946381Z"
    }
   },
   "outputs": [],
   "source": [
    "# list, collection ordonnée on accede aux elements grace a leur index\n",
    "fruits = [\"apple\", \"banana\", \"cherry\"]\n",
    "\n",
    "# dict, \n",
    "paris_dict = {\n",
    "    \"city_name\": \"Paris\",\n",
    "    \"population\": \"2_165_423\"\n",
    "}"
   ]
  },
  {
   "cell_type": "code",
   "execution_count": 26,
   "id": "eaa1dca0-b534-43df-a9e5-a8769ca81d31",
   "metadata": {
    "execution": {
     "iopub.execute_input": "2025-05-15T16:43:39.604876Z",
     "iopub.status.busy": "2025-05-15T16:43:39.603980Z",
     "iopub.status.idle": "2025-05-15T16:43:39.614973Z",
     "shell.execute_reply": "2025-05-15T16:43:39.612282Z",
     "shell.execute_reply.started": "2025-05-15T16:43:39.604839Z"
    }
   },
   "outputs": [
    {
     "data": {
      "text/plain": [
       "'apple'"
      ]
     },
     "execution_count": 26,
     "metadata": {},
     "output_type": "execute_result"
    }
   ],
   "source": [
    "fruits[0]"
   ]
  },
  {
   "cell_type": "code",
   "execution_count": 27,
   "id": "f5748bea-a638-467b-9060-54c8743865a2",
   "metadata": {
    "execution": {
     "iopub.execute_input": "2025-05-15T16:45:17.603228Z",
     "iopub.status.busy": "2025-05-15T16:45:17.601492Z",
     "iopub.status.idle": "2025-05-15T16:45:17.617706Z",
     "shell.execute_reply": "2025-05-15T16:45:17.614647Z",
     "shell.execute_reply.started": "2025-05-15T16:45:17.603185Z"
    }
   },
   "outputs": [
    {
     "data": {
      "text/plain": [
       "dict_keys(['city_name', 'population'])"
      ]
     },
     "execution_count": 27,
     "metadata": {},
     "output_type": "execute_result"
    }
   ],
   "source": [
    "paris_dict.keys()"
   ]
  },
  {
   "cell_type": "code",
   "execution_count": 28,
   "id": "557250b8-3d4b-4d99-bc26-f22393439750",
   "metadata": {
    "execution": {
     "iopub.execute_input": "2025-05-15T16:45:33.175329Z",
     "iopub.status.busy": "2025-05-15T16:45:33.174630Z",
     "iopub.status.idle": "2025-05-15T16:45:33.185188Z",
     "shell.execute_reply": "2025-05-15T16:45:33.183442Z",
     "shell.execute_reply.started": "2025-05-15T16:45:33.175295Z"
    }
   },
   "outputs": [
    {
     "data": {
      "text/plain": [
       "'Paris'"
      ]
     },
     "execution_count": 28,
     "metadata": {},
     "output_type": "execute_result"
    }
   ],
   "source": [
    "paris_dict['city_name']"
   ]
  },
  {
   "cell_type": "code",
   "execution_count": 29,
   "id": "9e0631cf-8b54-41af-827c-d68aceaa6109",
   "metadata": {
    "execution": {
     "iopub.execute_input": "2025-05-15T16:45:38.703661Z",
     "iopub.status.busy": "2025-05-15T16:45:38.702915Z",
     "iopub.status.idle": "2025-05-15T16:45:38.782375Z",
     "shell.execute_reply": "2025-05-15T16:45:38.779822Z",
     "shell.execute_reply.started": "2025-05-15T16:45:38.703622Z"
    }
   },
   "outputs": [
    {
     "ename": "KeyError",
     "evalue": "0",
     "output_type": "error",
     "traceback": [
      "\u001b[0;31m---------------------------------------------------------------------------\u001b[0m",
      "\u001b[0;31mKeyError\u001b[0m                                  Traceback (most recent call last)",
      "Cell \u001b[0;32mIn[29], line 1\u001b[0m\n\u001b[0;32m----> 1\u001b[0m \u001b[43mparis_dict\u001b[49m\u001b[43m[\u001b[49m\u001b[38;5;241;43m0\u001b[39;49m\u001b[43m]\u001b[49m\n",
      "\u001b[0;31mKeyError\u001b[0m: 0"
     ]
    }
   ],
   "source": [
    "# paris_dict[0]"
   ]
  },
  {
   "cell_type": "markdown",
   "id": "c7afef10-0091-4edf-a191-484df1254e19",
   "metadata": {},
   "source": [
    "## Les boucles `for`"
   ]
  },
  {
   "cell_type": "markdown",
   "id": "0359bd23-2e80-453d-ad3c-4198db128397",
   "metadata": {},
   "source": [
    "Pour itérer sur des objets"
   ]
  },
  {
   "cell_type": "code",
   "execution_count": 34,
   "id": "1ddff88c-c8cf-4f88-8f03-1b7ad31f421e",
   "metadata": {
    "execution": {
     "iopub.execute_input": "2025-05-15T16:47:39.401135Z",
     "iopub.status.busy": "2025-05-15T16:47:39.400729Z",
     "iopub.status.idle": "2025-05-15T16:47:39.411230Z",
     "shell.execute_reply": "2025-05-15T16:47:39.409443Z",
     "shell.execute_reply.started": "2025-05-15T16:47:39.401107Z"
    }
   },
   "outputs": [
    {
     "data": {
      "text/plain": [
       "['apple', 'banana', 'cherry']"
      ]
     },
     "execution_count": 34,
     "metadata": {},
     "output_type": "execute_result"
    }
   ],
   "source": [
    "fruits"
   ]
  },
  {
   "cell_type": "code",
   "execution_count": 38,
   "id": "dbf55779-22e7-442d-af06-29db89ed563d",
   "metadata": {
    "execution": {
     "iopub.execute_input": "2025-05-15T16:50:17.928030Z",
     "iopub.status.busy": "2025-05-15T16:50:17.927069Z",
     "iopub.status.idle": "2025-05-15T16:50:17.935696Z",
     "shell.execute_reply": "2025-05-15T16:50:17.933369Z",
     "shell.execute_reply.started": "2025-05-15T16:50:17.927989Z"
    }
   },
   "outputs": [
    {
     "name": "stdout",
     "output_type": "stream",
     "text": [
      "100\n",
      "102\n",
      "104\n"
     ]
    }
   ],
   "source": [
    "for fruit in fruits:\n",
    "    if fruit != \"cherry\":\n",
    "        print(fruit)\n",
    "        \n",
    "# count = 100\n",
    "# while count < 105:\n",
    "#     print(count)\n",
    "#     count = count +2"
   ]
  },
  {
   "cell_type": "markdown",
   "id": "acc1f9f9-8cb1-4334-801b-7f600d292f6a",
   "metadata": {},
   "source": [
    "## Requete API"
   ]
  },
  {
   "cell_type": "markdown",
   "id": "45fb5ced-ee6d-467e-96e9-7e6842c75537",
   "metadata": {},
   "source": [
    "Allons voir le [Breaking Bad Quote](https://breakingbadquotes.xyz/) API "
   ]
  },
  {
   "cell_type": "code",
   "execution_count": 41,
   "id": "15d84955-ce3e-4d02-b351-dbbddb5e3ac8",
   "metadata": {
    "execution": {
     "iopub.execute_input": "2025-05-15T16:55:17.537828Z",
     "iopub.status.busy": "2025-05-15T16:55:17.537361Z",
     "iopub.status.idle": "2025-05-15T16:55:17.766925Z",
     "shell.execute_reply": "2025-05-15T16:55:17.765541Z",
     "shell.execute_reply.started": "2025-05-15T16:55:17.537797Z"
    }
   },
   "outputs": [
    {
     "data": {
      "text/plain": [
       "[{'quote': 'La familia es todo.', 'author': 'Tio Salamanca'}]"
      ]
     },
     "execution_count": 41,
     "metadata": {},
     "output_type": "execute_result"
    }
   ],
   "source": [
    "import requests \n",
    "\n",
    "url = \"https://api.breakingbadquotes.xyz/v1/quotes\"\n",
    "# https --> Protocol\n",
    "# api.breakingbadquotes.xyz --> host\n",
    "# quotes --> endpoint\n",
    "\n",
    "requests.get(url).json()"
   ]
  },
  {
   "cell_type": "markdown",
   "id": "59ae3e46-a34a-47ce-966c-c639031d114a",
   "metadata": {},
   "source": [
    "# Quiz Intro to Python"
   ]
  },
  {
   "cell_type": "markdown",
   "id": "9caa96be-b1a6-46f5-a71b-292c4234fddd",
   "metadata": {},
   "source": [
    "## Question 1:"
   ]
  },
  {
   "cell_type": "markdown",
   "id": "d099b0e3-f21f-4c52-aaf6-74bcbbfdc629",
   "metadata": {},
   "source": [
    "What is b at the end of this code ?"
   ]
  },
  {
   "cell_type": "code",
   "execution_count": 42,
   "id": "5be88856-a790-47b4-8599-4d542157084f",
   "metadata": {
    "execution": {
     "iopub.execute_input": "2025-05-15T16:57:11.752637Z",
     "iopub.status.busy": "2025-05-15T16:57:11.752044Z",
     "iopub.status.idle": "2025-05-15T16:57:11.764223Z",
     "shell.execute_reply": "2025-05-15T16:57:11.758413Z",
     "shell.execute_reply.started": "2025-05-15T16:57:11.752598Z"
    }
   },
   "outputs": [],
   "source": [
    "a = 4\n",
    "b = 5\n",
    "a = a * 2 \n",
    "b = b * a "
   ]
  },
  {
   "cell_type": "code",
   "execution_count": 43,
   "id": "2c505297-c687-4b32-a0c0-08911f5967b5",
   "metadata": {
    "execution": {
     "iopub.execute_input": "2025-05-15T16:57:17.038155Z",
     "iopub.status.busy": "2025-05-15T16:57:17.036906Z",
     "iopub.status.idle": "2025-05-15T16:57:17.049353Z",
     "shell.execute_reply": "2025-05-15T16:57:17.047134Z",
     "shell.execute_reply.started": "2025-05-15T16:57:17.038086Z"
    }
   },
   "outputs": [
    {
     "data": {
      "text/plain": [
       "40"
      ]
     },
     "execution_count": 43,
     "metadata": {},
     "output_type": "execute_result"
    }
   ],
   "source": [
    "b"
   ]
  },
  {
   "cell_type": "markdown",
   "id": "0b0597d6-6d08-4ff9-89c5-f9a5aeda68c4",
   "metadata": {},
   "source": [
    "`40`  \n",
    "`20`  \n",
    "`5`  \n",
    "None of these responses"
   ]
  },
  {
   "cell_type": "markdown",
   "id": "96bf49e1-b261-4f50-b521-63de9c4fdfd7",
   "metadata": {},
   "source": [
    "## Question 2:"
   ]
  },
  {
   "cell_type": "markdown",
   "id": "7184852e-ad5a-4816-a661-d27d3856c01c",
   "metadata": {},
   "source": [
    "What is the purpose of a loop ?"
   ]
  },
  {
   "cell_type": "markdown",
   "id": "0aadae15-230e-4854-be06-9746d764c860",
   "metadata": {},
   "source": [
    "Make code execution faster  \n",
    "    | Rendre l'exécution du code plus rapide\n",
    "\n",
    "Allows the same set of instructions to be repeated several times  \n",
    "    | Permet de répéter plusieurs fois le même ensemble d'instruction\n",
    "\n",
    "Save RAM  \n",
    "    | Économiser la RAM\n",
    "\n",
    "None of the proposals  \n",
    "    | Aucune des propositions"
   ]
  },
  {
   "cell_type": "markdown",
   "id": "5449ab2a-fbe2-4954-907c-7dc6f177a2e5",
   "metadata": {},
   "source": [
    "# Question 3:"
   ]
  },
  {
   "cell_type": "markdown",
   "id": "817070e1-e5cd-4c80-af47-95e95e2bbe77",
   "metadata": {},
   "source": [
    "What is the value of the `sum` variable at the end of the following program ?  \n",
    "| Quelle est la valeur de la variable sum à la fin du programme suivant ?"
   ]
  },
  {
   "cell_type": "code",
   "execution_count": 46,
   "id": "05678d2b-dfca-4e89-8fae-eb3bce757a9f",
   "metadata": {
    "execution": {
     "iopub.execute_input": "2025-05-15T17:00:14.564152Z",
     "iopub.status.busy": "2025-05-15T17:00:14.563660Z",
     "iopub.status.idle": "2025-05-15T17:00:14.573269Z",
     "shell.execute_reply": "2025-05-15T17:00:14.570617Z",
     "shell.execute_reply.started": "2025-05-15T17:00:14.564123Z"
    }
   },
   "outputs": [
    {
     "name": "stdout",
     "output_type": "stream",
     "text": [
      "2 4\n",
      "3 9\n",
      "4 16\n",
      "5 25\n",
      "6 36\n",
      "7 49\n",
      "8 64\n",
      "9 81\n",
      "10 100\n"
     ]
    }
   ],
   "source": [
    "sum = 0\n",
    "for i in [1, 2, 3, 4, 5, 6, 7, 8, 9, 10]:\n",
    "    print(i, i*i)\n",
    "    sum =  sum + i * i\n",
    "# sum ?"
   ]
  },
  {
   "cell_type": "markdown",
   "id": "6368e246-2651-42cb-bdaa-943eae3e892d",
   "metadata": {},
   "source": [
    "The code won’t run as it contains a syntax error  \n",
    "| Le code ne s’exécutera pas car il contient une erreur de syntaxe\n",
    "\n",
    "sum contains the sum of the integers from 1 to 10  \n",
    "| sum contient la somme des entiers de 1 à 10\n",
    "\n",
    "sum contains the sum of the integers from 1 to 9  \n",
    "| sum contient la somme des entiers de 1 à 9\n",
    "\n",
    "sum contains the sum of the squared integers from 1 to 10  \n",
    "| sum contient la somme des carrés des entiers de 1 à 10\n",
    "\n",
    "sum contains the sum of the squared integers from 1 to 9  \n",
    "| sum contient la somme des carrés des entiers de 1 à 9"
   ]
  },
  {
   "cell_type": "markdown",
   "id": "1f143efd-6574-4ec4-9e10-60f505a7885b",
   "metadata": {},
   "source": [
    "## Question 4:"
   ]
  },
  {
   "cell_type": "markdown",
   "id": "debc40af-dd74-4491-9506-0d989456bcea",
   "metadata": {},
   "source": [
    "Are the keys of a dictionary ordered?  \n",
    "| Les clés d’un dictionnaire sont-elles ordonnées ?"
   ]
  },
  {
   "cell_type": "markdown",
   "id": "5ea1870e-0d74-4eec-b247-c6c51a56e953",
   "metadata": {},
   "source": [
    "Yes\n",
    "\n",
    "No\n",
    "\n",
    "It depends on the dictionary"
   ]
  },
  {
   "cell_type": "markdown",
   "id": "9cfd43c7-3cea-4a67-90ae-c12ec7cdc817",
   "metadata": {},
   "source": [
    "## Question 5:"
   ]
  },
  {
   "cell_type": "markdown",
   "id": "de4eeb00-1399-4841-9ddb-44bfd0461f98",
   "metadata": {},
   "source": [
    "Let d be the following dictionary:"
   ]
  },
  {
   "cell_type": "code",
   "execution_count": 47,
   "id": "226afd84-66c8-40d5-9abb-490338da2cfa",
   "metadata": {
    "execution": {
     "iopub.execute_input": "2025-05-15T17:00:57.948436Z",
     "iopub.status.busy": "2025-05-15T17:00:57.946897Z",
     "iopub.status.idle": "2025-05-15T17:00:57.961172Z",
     "shell.execute_reply": "2025-05-15T17:00:57.959634Z",
     "shell.execute_reply.started": "2025-05-15T17:00:57.948377Z"
    }
   },
   "outputs": [],
   "source": [
    "d = {\n",
    "  \"first name\": \"Paul\",\n",
    "  \"last name\": \"Mochkovitch\",\n",
    "  \"experiences\": [\n",
    "    {\"title\": \"analyst\", \"year\": 2020},\n",
    "    {\"title\": \"consulting\", \"year\": 2019}\n",
    "  ]\n",
    "}"
   ]
  },
  {
   "cell_type": "markdown",
   "id": "8256bbfd-8f17-4aba-a6cc-b2493c2aa9bc",
   "metadata": {},
   "source": [
    "How do you access the title of this person’s last job?"
   ]
  },
  {
   "cell_type": "code",
   "execution_count": 54,
   "id": "2c6e8b6b-fe13-4c2f-931b-110593f3ae7d",
   "metadata": {
    "execution": {
     "iopub.execute_input": "2025-05-15T17:02:40.676240Z",
     "iopub.status.busy": "2025-05-15T17:02:40.675099Z",
     "iopub.status.idle": "2025-05-15T17:02:40.687449Z",
     "shell.execute_reply": "2025-05-15T17:02:40.685335Z",
     "shell.execute_reply.started": "2025-05-15T17:02:40.676192Z"
    }
   },
   "outputs": [
    {
     "data": {
      "text/plain": [
       "'analyst'"
      ]
     },
     "execution_count": 54,
     "metadata": {},
     "output_type": "execute_result"
    }
   ],
   "source": [
    "d['experiences'][0]['title']"
   ]
  },
  {
   "cell_type": "code",
   "execution_count": 61,
   "id": "57b69ce5-c42a-4879-8e3f-f663299ebfcf",
   "metadata": {
    "execution": {
     "iopub.execute_input": "2025-05-15T17:03:52.763230Z",
     "iopub.status.busy": "2025-05-15T17:03:52.762746Z",
     "iopub.status.idle": "2025-05-15T17:03:52.774201Z",
     "shell.execute_reply": "2025-05-15T17:03:52.772345Z",
     "shell.execute_reply.started": "2025-05-15T17:03:52.763196Z"
    }
   },
   "outputs": [
    {
     "name": "stdout",
     "output_type": "stream",
     "text": [
      "{'title': 'analyst', 'year': 2020}\n",
      "{'title': 'consulting', 'year': 2019}\n"
     ]
    }
   ],
   "source": [
    "for experience in d['experiences']:\n",
    "    print(experience)"
   ]
  }
 ],
 "metadata": {
  "kernelspec": {
   "display_name": "Python 3 (ipykernel)",
   "language": "python",
   "name": "python3"
  },
  "language_info": {
   "codemirror_mode": {
    "name": "ipython",
    "version": 3
   },
   "file_extension": ".py",
   "mimetype": "text/x-python",
   "name": "python",
   "nbconvert_exporter": "python",
   "pygments_lexer": "ipython3",
   "version": "3.12.9"
  }
 },
 "nbformat": 4,
 "nbformat_minor": 5
}
